{
 "cells": [
  {
   "cell_type": "markdown",
   "metadata": {},
   "source": [
    "# Time Series Classification"
   ]
  },
  {
   "cell_type": "markdown",
   "metadata": {},
   "source": [
    "## Import modules and set path."
   ]
  },
  {
   "cell_type": "code",
   "execution_count": 1,
   "metadata": {
    "collapsed": true
   },
   "outputs": [],
   "source": [
    "import pandas as pd\n",
    "import matplotlib.pyplot as plt\n",
    "import os\n",
    "import numpy as np\n",
    "import matplotlib\n",
    "import matplotlib.pyplot as plt\n",
    "%matplotlib inline\n",
    "\n",
    "\n",
    "PATH='/Users/nicholashedger/Documents'"
   ]
  },
  {
   "cell_type": "markdown",
   "metadata": {},
   "source": [
    "## Load in files."
   ]
  },
  {
   "cell_type": "markdown",
   "metadata": {},
   "source": [
    "Here I load the timeseries and labels into a pandas dataframe"
   ]
  },
  {
   "cell_type": "code",
   "execution_count": 2,
   "metadata": {
    "collapsed": true
   },
   "outputs": [],
   "source": [
    "def load_data(PATH,FILE):\n",
    "\tcsvpath=os.path.join(PATH,FILE)\n",
    "\treturn pd.read_csv(csvpath)\n",
    "\n",
    "\n",
    "TIMESERIES=load_data(PATH,'TIMESERIES_CLEAN.csv') # The full timeseries data.\n",
    "SCRAMLAB=load_data(PATH,'SCLABELS_CLEAN.csv') # The labels corresponding to whether the trial was scrambled or not.\n",
    "SIDETIMESERIES=load_data(PATH,'timeseriesside.csv') # The timeseries for intact images only\n",
    "SIDELAB=load_data(PATH,'sidelabels.csv') # The labels corresponding to the location of the social image."
   ]
  },
  {
   "cell_type": "markdown",
   "metadata": {},
   "source": [
    "## Review data structure"
   ]
  },
  {
   "cell_type": "code",
   "execution_count": 3,
   "metadata": {},
   "outputs": [
    {
     "data": {
      "text/plain": [
       "(2811500, 6)"
      ]
     },
     "execution_count": 3,
     "metadata": {},
     "output_type": "execute_result"
    }
   ],
   "source": [
    "TIMESERIES.shape"
   ]
  },
  {
   "cell_type": "code",
   "execution_count": 4,
   "metadata": {},
   "outputs": [
    {
     "data": {
      "text/plain": [
       "(5623, 2)"
      ]
     },
     "execution_count": 4,
     "metadata": {},
     "output_type": "execute_result"
    }
   ],
   "source": [
    "SCRAMLAB.shape"
   ]
  },
  {
   "cell_type": "code",
   "execution_count": 5,
   "metadata": {},
   "outputs": [
    {
     "data": {
      "text/plain": [
       "(3080, 2)"
      ]
     },
     "execution_count": 5,
     "metadata": {},
     "output_type": "execute_result"
    }
   ],
   "source": [
    "SIDELAB.shape"
   ]
  },
  {
   "cell_type": "markdown",
   "metadata": {},
   "source": [
    "The timeseries data has the following structure: There is the id (timeseries number) a timestamp and a corresponding X and Y value for each timestamp."
   ]
  },
  {
   "cell_type": "code",
   "execution_count": 6,
   "metadata": {},
   "outputs": [
    {
     "data": {
      "text/html": [
       "<div>\n",
       "<style>\n",
       "    .dataframe thead tr:only-child th {\n",
       "        text-align: right;\n",
       "    }\n",
       "\n",
       "    .dataframe thead th {\n",
       "        text-align: left;\n",
       "    }\n",
       "\n",
       "    .dataframe tbody tr th {\n",
       "        vertical-align: top;\n",
       "    }\n",
       "</style>\n",
       "<table border=\"1\" class=\"dataframe\">\n",
       "  <thead>\n",
       "    <tr style=\"text-align: right;\">\n",
       "      <th></th>\n",
       "      <th>Unnamed: 0</th>\n",
       "      <th>id</th>\n",
       "      <th>time</th>\n",
       "      <th>X</th>\n",
       "      <th>Y</th>\n",
       "      <th>ps</th>\n",
       "    </tr>\n",
       "  </thead>\n",
       "  <tbody>\n",
       "    <tr>\n",
       "      <th>0</th>\n",
       "      <td>1</td>\n",
       "      <td>1</td>\n",
       "      <td>1</td>\n",
       "      <td>762.3</td>\n",
       "      <td>639.5</td>\n",
       "      <td>1</td>\n",
       "    </tr>\n",
       "    <tr>\n",
       "      <th>1</th>\n",
       "      <td>2</td>\n",
       "      <td>1</td>\n",
       "      <td>2</td>\n",
       "      <td>762.3</td>\n",
       "      <td>639.5</td>\n",
       "      <td>1</td>\n",
       "    </tr>\n",
       "    <tr>\n",
       "      <th>2</th>\n",
       "      <td>3</td>\n",
       "      <td>1</td>\n",
       "      <td>3</td>\n",
       "      <td>762.3</td>\n",
       "      <td>639.5</td>\n",
       "      <td>1</td>\n",
       "    </tr>\n",
       "    <tr>\n",
       "      <th>3</th>\n",
       "      <td>4</td>\n",
       "      <td>1</td>\n",
       "      <td>4</td>\n",
       "      <td>762.3</td>\n",
       "      <td>639.5</td>\n",
       "      <td>1</td>\n",
       "    </tr>\n",
       "    <tr>\n",
       "      <th>4</th>\n",
       "      <td>5</td>\n",
       "      <td>1</td>\n",
       "      <td>5</td>\n",
       "      <td>762.3</td>\n",
       "      <td>639.5</td>\n",
       "      <td>1</td>\n",
       "    </tr>\n",
       "  </tbody>\n",
       "</table>\n",
       "</div>"
      ],
      "text/plain": [
       "   Unnamed: 0  id  time      X      Y  ps\n",
       "0           1   1     1  762.3  639.5   1\n",
       "1           2   1     2  762.3  639.5   1\n",
       "2           3   1     3  762.3  639.5   1\n",
       "3           4   1     4  762.3  639.5   1\n",
       "4           5   1     5  762.3  639.5   1"
      ]
     },
     "execution_count": 6,
     "metadata": {},
     "output_type": "execute_result"
    }
   ],
   "source": [
    "TIMESERIES.head()"
   ]
  },
  {
   "cell_type": "markdown",
   "metadata": {},
   "source": [
    "There are 5623 timeseries, each of which has a corresponding label in the SCRAMLAB dataframe (1= intact, 2 =scrambled)."
   ]
  },
  {
   "cell_type": "code",
   "execution_count": 7,
   "metadata": {},
   "outputs": [
    {
     "data": {
      "text/plain": [
       "5623"
      ]
     },
     "execution_count": 7,
     "metadata": {},
     "output_type": "execute_result"
    }
   ],
   "source": [
    "len(np.unique(TIMESERIES[\"id\"]))"
   ]
  },
  {
   "cell_type": "code",
   "execution_count": 8,
   "metadata": {},
   "outputs": [
    {
     "data": {
      "text/html": [
       "<div>\n",
       "<style>\n",
       "    .dataframe thead tr:only-child th {\n",
       "        text-align: right;\n",
       "    }\n",
       "\n",
       "    .dataframe thead th {\n",
       "        text-align: left;\n",
       "    }\n",
       "\n",
       "    .dataframe tbody tr th {\n",
       "        vertical-align: top;\n",
       "    }\n",
       "</style>\n",
       "<table border=\"1\" class=\"dataframe\">\n",
       "  <thead>\n",
       "    <tr style=\"text-align: right;\">\n",
       "      <th></th>\n",
       "      <th>Unnamed: 0</th>\n",
       "      <th>sc</th>\n",
       "    </tr>\n",
       "  </thead>\n",
       "  <tbody>\n",
       "    <tr>\n",
       "      <th>0</th>\n",
       "      <td>1</td>\n",
       "      <td>1</td>\n",
       "    </tr>\n",
       "    <tr>\n",
       "      <th>1</th>\n",
       "      <td>2</td>\n",
       "      <td>1</td>\n",
       "    </tr>\n",
       "    <tr>\n",
       "      <th>2</th>\n",
       "      <td>3</td>\n",
       "      <td>1</td>\n",
       "    </tr>\n",
       "    <tr>\n",
       "      <th>3</th>\n",
       "      <td>4</td>\n",
       "      <td>1</td>\n",
       "    </tr>\n",
       "    <tr>\n",
       "      <th>4</th>\n",
       "      <td>5</td>\n",
       "      <td>1</td>\n",
       "    </tr>\n",
       "  </tbody>\n",
       "</table>\n",
       "</div>"
      ],
      "text/plain": [
       "   Unnamed: 0  sc\n",
       "0           1   1\n",
       "1           2   1\n",
       "2           3   1\n",
       "3           4   1\n",
       "4           5   1"
      ]
     },
     "execution_count": 8,
     "metadata": {},
     "output_type": "execute_result"
    }
   ],
   "source": [
    "SCRAMLAB.head()"
   ]
  },
  {
   "cell_type": "markdown",
   "metadata": {},
   "source": [
    "SCRAMLAB and SIDELAB just code the labels to be classified (1 per timeseries). Plot an example timeseries instance."
   ]
  },
  {
   "cell_type": "code",
   "execution_count": 9,
   "metadata": {},
   "outputs": [],
   "source": [
    "# Plot a timeseries and add some bells and whistles. Plot where the stimuli are and a title indicating whether\n",
    "# it was a scrambled or intact trial.\n",
    "import matplotlib.patches as patches\n",
    "SCRAMLAB=SCRAMLAB.drop('Unnamed: 0',1)\n",
    "def tsplot(FRAME,id):\n",
    "    fig1, ax =plt.subplots(1)\n",
    "    instance=FRAME[(FRAME[\"id\"]==id)]\n",
    "    plt.plot(instance['X'],instance['Y'])\n",
    "    plt.axis([100,1500,300,900])\n",
    "    rect=patches.Rectangle((168,378),544,444,facecolor='none',edgecolor='r') # Plot the grid area\n",
    "    rect2=patches.Rectangle((888,378),544,444,facecolor='none',edgecolor='r')\n",
    "    ax.add_patch(rect)\n",
    "    ax.add_patch(rect2)\n",
    "    num=SCRAMLAB.iloc[id-1,0] # Reference the timeseries with the label. \n",
    "    lab=\"Scram = %d\" % (num)\n",
    "    plt.title(lab)\n",
    "    plt.show()"
   ]
  },
  {
   "cell_type": "code",
   "execution_count": 28,
   "metadata": {},
   "outputs": [
    {
     "data": {
      "image/png": "[encoded data removed]",
      "text/plain": [
       "<matplotlib.figure.Figure at 0xa11cb9bd0>"
      ]
     },
     "metadata": {},
     "output_type": "display_data"
    }
   ],
   "source": [
    "x=tsplot(TIMESERIES,16) # Plot the coordinates of a timeseries.\n"
   ]
  },
  {
   "cell_type": "code",
   "execution_count": 11,
   "metadata": {},
   "outputs": [],
   "source": [
    "# Drop columns not required.\n",
    "TIMESERIES=TIMESERIES.drop('Unnamed: 0',1)\n",
    "SIDETIMESERIES=SIDETIMESERIES.drop('Unnamed: 0',1)\n",
    "#SCRAMLAB=SCRAMLAB.drop('Unnamed: 0',1)\n",
    "SIDELAB=SIDELAB.drop('Unnamed: 0',1)\n",
    "TIMESERIES=TIMESERIES.drop('ps',1)\n",
    "SIDETIMESERIES=SIDETIMESERIES.drop('ps',1)"
   ]
  },
  {
   "cell_type": "markdown",
   "metadata": {},
   "source": [
    "## Classifcation of intact versus scrambled images"
   ]
  },
  {
   "cell_type": "markdown",
   "metadata": {
    "collapsed": true
   },
   "source": [
    "Now we get the labels into a 1D format."
   ]
  },
  {
   "cell_type": "code",
   "execution_count": 12,
   "metadata": {
    "collapsed": true
   },
   "outputs": [],
   "source": [
    "# Re-structure labels into a 1D numpy array\n",
    "LABELS=SCRAMLAB\n",
    "LABELSPREP=pd.DataFrame.as_matrix(LABELS)\n",
    "LABELSPREP=np.squeeze(LABELSPREP)"
   ]
  },
  {
   "cell_type": "code",
   "execution_count": 13,
   "metadata": {},
   "outputs": [
    {
     "data": {
      "text/plain": [
       "(5623,)"
      ]
     },
     "execution_count": 13,
     "metadata": {},
     "output_type": "execute_result"
    }
   ],
   "source": [
    "LABELSPREP.shape"
   ]
  },
  {
   "cell_type": "markdown",
   "metadata": {},
   "source": [
    "Now the data are all in the correct format, import the tsfresh module and ask it to engineer some features. The  [following features are calculated](http://tsfresh.readthedocs.io/en/latest/text/list_of_features.html)"
   ]
  },
  {
   "cell_type": "code",
   "execution_count": 14,
   "metadata": {},
   "outputs": [
    {
     "name": "stderr",
     "output_type": "stream",
     "text": [
      "/Users/nicholashedger/anaconda2/envs/env/lib/python2.7/site-packages/statsmodels/compat/pandas.py:56: FutureWarning: The pandas.core.datetools module is deprecated and will be removed in a future version. Please use the pandas.tseries module instead.\n",
      "  from pandas.core import datetools\n"
     ]
    }
   ],
   "source": [
    "from tsfresh import extract_relevant_features"
   ]
  },
  {
   "cell_type": "code",
   "execution_count": 15,
   "metadata": {},
   "outputs": [
    {
     "name": "stderr",
     "output_type": "stream",
     "text": [
      "Feature Extraction: 10it [1:37:59, 587.92s/it]                       \n",
      "WARNING:tsfresh.utilities.dataframe_functions:The columns ['X__friedrich_coefficients__m_3__r_30__coeff_0'\n",
      " 'X__friedrich_coefficients__m_3__r_30__coeff_1'\n",
      " 'X__friedrich_coefficients__m_3__r_30__coeff_2'\n",
      " 'X__friedrich_coefficients__m_3__r_30__coeff_3'\n",
      " 'X__max_langevin_fixed_point__m_3__r_30'\n",
      " 'Y__friedrich_coefficients__m_3__r_30__coeff_0'\n",
      " 'Y__friedrich_coefficients__m_3__r_30__coeff_1'\n",
      " 'Y__friedrich_coefficients__m_3__r_30__coeff_2'\n",
      " 'Y__friedrich_coefficients__m_3__r_30__coeff_3'\n",
      " 'Y__max_langevin_fixed_point__m_3__r_30'] did not have any finite values. Filling with zeros.\n",
      "WARNING:tsfresh.feature_selection.relevance:Infered classification as machine learning task\n",
      "WARNING:tsfresh.feature_selection.relevance:[test_feature_significance] Feature X__change_quantiles__f_agg_\"mean\"__isabs_False__qh_0.2__ql_0.2 is constant\n",
      "WARNING:tsfresh.feature_selection.relevance:[test_feature_significance] Feature X__change_quantiles__f_agg_\"mean\"__isabs_False__qh_0.4__ql_0.4 is constant\n",
      "WARNING:tsfresh.feature_selection.relevance:[test_feature_significance] Feature X__change_quantiles__f_agg_\"mean\"__isabs_False__qh_0.2__ql_0.4 is constant\n",
      "WARNING:tsfresh.feature_selection.relevance:[test_feature_significance] Feature X__change_quantiles__f_agg_\"mean\"__isabs_False__qh_0.2__ql_0.6 is constant\n",
      "WARNING:tsfresh.feature_selection.relevance:[test_feature_significance] Feature X__change_quantiles__f_agg_\"mean\"__isabs_False__qh_0.2__ql_0.8 is constant\n",
      "WARNING:tsfresh.feature_selection.relevance:[test_feature_significance] Feature X__change_quantiles__f_agg_\"mean\"__isabs_False__qh_0.4__ql_0.6 is constant\n",
      "WARNING:tsfresh.feature_selection.relevance:[test_feature_significance] Feature X__change_quantiles__f_agg_\"mean\"__isabs_False__qh_0.4__ql_0.8 is constant\n",
      "WARNING:tsfresh.feature_selection.relevance:[test_feature_significance] Feature X__change_quantiles__f_agg_\"mean\"__isabs_False__qh_0.6__ql_0.6 is constant\n",
      "WARNING:tsfresh.feature_selection.relevance:[test_feature_significance] Feature X__change_quantiles__f_agg_\"mean\"__isabs_False__qh_0.6__ql_0.8 is constant\n",
      "WARNING:tsfresh.feature_selection.relevance:[test_feature_significance] Feature X__change_quantiles__f_agg_\"mean\"__isabs_False__qh_0.8__ql_0.8 is constant\n",
      "WARNING:tsfresh.feature_selection.relevance:[test_feature_significance] Feature X__change_quantiles__f_agg_\"mean\"__isabs_True__qh_0.2__ql_0.2 is constant\n",
      "WARNING:tsfresh.feature_selection.relevance:[test_feature_significance] Feature X__change_quantiles__f_agg_\"mean\"__isabs_True__qh_0.2__ql_0.4 is constant\n",
      "WARNING:tsfresh.feature_selection.relevance:[test_feature_significance] Feature X__fft_coefficient__coeff_0__attr_\"angle\" is constant\n",
      "WARNING:tsfresh.feature_selection.relevance:[test_feature_significance] Feature X__change_quantiles__f_agg_\"mean\"__isabs_True__qh_0.2__ql_0.6 is constant\n",
      "WARNING:tsfresh.feature_selection.relevance:[test_feature_significance] Feature X__fft_coefficient__coeff_0__attr_\"imag\" is constant\n",
      "WARNING:tsfresh.feature_selection.relevance:[test_feature_significance] Feature X__change_quantiles__f_agg_\"mean\"__isabs_True__qh_0.2__ql_0.8 is constant\n",
      "WARNING:tsfresh.feature_selection.relevance:[test_feature_significance] Feature X__change_quantiles__f_agg_\"mean\"__isabs_True__qh_0.4__ql_0.4 is constant\n",
      "WARNING:tsfresh.feature_selection.relevance:[test_feature_significance] Feature X__change_quantiles__f_agg_\"mean\"__isabs_True__qh_0.4__ql_0.6 is constant\n",
      "WARNING:tsfresh.feature_selection.relevance:[test_feature_significance] Feature X__change_quantiles__f_agg_\"mean\"__isabs_True__qh_0.4__ql_0.8 is constant\n",
      "WARNING:tsfresh.feature_selection.relevance:[test_feature_significance] Feature X__change_quantiles__f_agg_\"mean\"__isabs_True__qh_0.6__ql_0.6 is constant\n",
      "WARNING:tsfresh.feature_selection.relevance:[test_feature_significance] Feature X__change_quantiles__f_agg_\"mean\"__isabs_True__qh_0.6__ql_0.8 is constant\n",
      "WARNING:tsfresh.feature_selection.relevance:[test_feature_significance] Feature X__change_quantiles__f_agg_\"mean\"__isabs_True__qh_0.8__ql_0.8 is constant\n",
      "WARNING:tsfresh.feature_selection.relevance:[test_feature_significance] Feature X__change_quantiles__f_agg_\"var\"__isabs_False__qh_0.2__ql_0.2 is constant\n",
      "WARNING:tsfresh.feature_selection.relevance:[test_feature_significance] Feature X__change_quantiles__f_agg_\"var\"__isabs_False__qh_0.2__ql_0.4 is constant\n",
      "WARNING:tsfresh.feature_selection.relevance:[test_feature_significance] Feature X__change_quantiles__f_agg_\"var\"__isabs_False__qh_0.2__ql_0.6 is constant\n",
      "WARNING:tsfresh.feature_selection.relevance:[test_feature_significance] Feature X__change_quantiles__f_agg_\"var\"__isabs_False__qh_0.2__ql_0.8 is constant\n",
      "WARNING:tsfresh.feature_selection.relevance:[test_feature_significance] Feature X__change_quantiles__f_agg_\"var\"__isabs_False__qh_0.4__ql_0.4 is constant\n",
      "WARNING:tsfresh.feature_selection.relevance:[test_feature_significance] Feature X__change_quantiles__f_agg_\"var\"__isabs_False__qh_0.4__ql_0.6 is constant\n",
      "WARNING:tsfresh.feature_selection.relevance:[test_feature_significance] Feature X__change_quantiles__f_agg_\"var\"__isabs_False__qh_0.4__ql_0.8 is constant\n",
      "WARNING:tsfresh.feature_selection.relevance:[test_feature_significance] Feature X__change_quantiles__f_agg_\"var\"__isabs_False__qh_0.6__ql_0.6 is constant\n",
      "WARNING:tsfresh.feature_selection.relevance:[test_feature_significance] Feature X__change_quantiles__f_agg_\"var\"__isabs_False__qh_0.6__ql_0.8 is constant\n",
      "WARNING:tsfresh.feature_selection.relevance:[test_feature_significance] Feature X__change_quantiles__f_agg_\"var\"__isabs_False__qh_0.8__ql_0.8 is constant\n",
      "WARNING:tsfresh.feature_selection.relevance:[test_feature_significance] Feature X__change_quantiles__f_agg_\"var\"__isabs_True__qh_0.2__ql_0.2 is constant\n",
      "WARNING:tsfresh.feature_selection.relevance:[test_feature_significance] Feature X__change_quantiles__f_agg_\"var\"__isabs_True__qh_0.2__ql_0.4 is constant\n",
      "WARNING:tsfresh.feature_selection.relevance:[test_feature_significance] Feature X__change_quantiles__f_agg_\"var\"__isabs_True__qh_0.2__ql_0.6 is constant\n",
      "WARNING:tsfresh.feature_selection.relevance:[test_feature_significance] Feature X__change_quantiles__f_agg_\"var\"__isabs_True__qh_0.2__ql_0.8 is constant\n",
      "WARNING:tsfresh.feature_selection.relevance:[test_feature_significance] Feature X__change_quantiles__f_agg_\"var\"__isabs_True__qh_0.4__ql_0.4 is constant\n",
      "WARNING:tsfresh.feature_selection.relevance:[test_feature_significance] Feature X__change_quantiles__f_agg_\"var\"__isabs_True__qh_0.6__ql_0.8 is constant\n",
      "WARNING:tsfresh.feature_selection.relevance:[test_feature_significance] Feature X__change_quantiles__f_agg_\"var\"__isabs_True__qh_0.4__ql_0.6 is constant\n",
      "WARNING:tsfresh.feature_selection.relevance:[test_feature_significance] Feature X__change_quantiles__f_agg_\"var\"__isabs_True__qh_0.4__ql_0.8 is constant\n",
      "WARNING:tsfresh.feature_selection.relevance:[test_feature_significance] Feature X__change_quantiles__f_agg_\"var\"__isabs_True__qh_0.6__ql_0.6 is constant\n",
      "WARNING:tsfresh.feature_selection.relevance:[test_feature_significance] Feature X__change_quantiles__f_agg_\"var\"__isabs_True__qh_0.8__ql_0.8 is constant\n",
      "WARNING:tsfresh.feature_selection.relevance:[test_feature_significance] Feature X__friedrich_coefficients__m_3__r_30__coeff_0 is constant\n",
      "WARNING:tsfresh.feature_selection.relevance:[test_feature_significance] Feature X__friedrich_coefficients__m_3__r_30__coeff_1 is constant\n",
      "WARNING:tsfresh.feature_selection.relevance:[test_feature_significance] Feature X__friedrich_coefficients__m_3__r_30__coeff_2 is constant\n",
      "WARNING:tsfresh.feature_selection.relevance:[test_feature_significance] Feature X__friedrich_coefficients__m_3__r_30__coeff_3 is constant\n",
      "WARNING:tsfresh.feature_selection.relevance:[test_feature_significance] Feature X__has_duplicate is constant\n",
      "WARNING:tsfresh.feature_selection.relevance:[test_feature_significance] Feature X__large_standard_deviation__r_0.05 is constant\n",
      "WARNING:tsfresh.feature_selection.relevance:[test_feature_significance] Feature X__large_standard_deviation__r_0.1 is constant\n",
      "WARNING:tsfresh.feature_selection.relevance:[test_feature_significance] Feature X__large_standard_deviation__r_0.15 is constant\n"
     ]
    },
    {
     "name": "stderr",
     "output_type": "stream",
     "text": [
      "WARNING:tsfresh.feature_selection.relevance:[test_feature_significance] Feature X__large_standard_deviation__r_0.5 is constant\n",
      "WARNING:tsfresh.feature_selection.relevance:[test_feature_significance] Feature X__large_standard_deviation__r_0.65 is constant\n",
      "WARNING:tsfresh.feature_selection.relevance:[test_feature_significance] Feature X__large_standard_deviation__r_0.55 is constant\n",
      "WARNING:tsfresh.feature_selection.relevance:[test_feature_significance] Feature X__large_standard_deviation__r_0.6 is constant\n",
      "WARNING:tsfresh.feature_selection.relevance:[test_feature_significance] Feature X__large_standard_deviation__r_0.7 is constant\n",
      "WARNING:tsfresh.feature_selection.relevance:[test_feature_significance] Feature X__large_standard_deviation__r_0.75 is constant\n",
      "WARNING:tsfresh.feature_selection.relevance:[test_feature_significance] Feature X__large_standard_deviation__r_0.8 is constant\n",
      "WARNING:tsfresh.feature_selection.relevance:[test_feature_significance] Feature X__large_standard_deviation__r_0.85 is constant\n",
      "WARNING:tsfresh.feature_selection.relevance:[test_feature_significance] Feature X__large_standard_deviation__r_0.9 is constant\n",
      "WARNING:tsfresh.feature_selection.relevance:[test_feature_significance] Feature X__large_standard_deviation__r_0.95 is constant\n",
      "WARNING:tsfresh.feature_selection.relevance:[test_feature_significance] Feature X__length is constant\n",
      "WARNING:tsfresh.feature_selection.relevance:[test_feature_significance] Feature X__max_langevin_fixed_point__m_3__r_30 is constant\n",
      "WARNING:tsfresh.feature_selection.relevance:[test_feature_significance] Feature X__number_crossing_m__m_-1 is constant\n",
      "WARNING:tsfresh.feature_selection.relevance:[test_feature_significance] Feature X__number_crossing_m__m_0 is constant\n",
      "WARNING:tsfresh.feature_selection.relevance:[test_feature_significance] Feature X__number_crossing_m__m_1 is constant\n",
      "WARNING:tsfresh.feature_selection.relevance:[test_feature_significance] Feature X__number_peaks__n_1 is constant\n",
      "WARNING:tsfresh.feature_selection.relevance:[test_feature_significance] Feature Y__change_quantiles__f_agg_\"mean\"__isabs_False__qh_0.2__ql_0.2 is constant\n",
      "WARNING:tsfresh.feature_selection.relevance:[test_feature_significance] Feature Y__change_quantiles__f_agg_\"mean\"__isabs_False__qh_0.2__ql_0.4 is constant\n",
      "WARNING:tsfresh.feature_selection.relevance:[test_feature_significance] Feature Y__change_quantiles__f_agg_\"mean\"__isabs_False__qh_0.2__ql_0.6 is constant\n",
      "WARNING:tsfresh.feature_selection.relevance:[test_feature_significance] Feature Y__change_quantiles__f_agg_\"mean\"__isabs_False__qh_0.2__ql_0.8 is constant\n",
      "WARNING:tsfresh.feature_selection.relevance:[test_feature_significance] Feature X__number_peaks__n_10 is constant\n",
      "WARNING:tsfresh.feature_selection.relevance:[test_feature_significance] Feature Y__change_quantiles__f_agg_\"mean\"__isabs_False__qh_0.4__ql_0.4 is constant\n",
      "WARNING:tsfresh.feature_selection.relevance:[test_feature_significance] Feature X__number_peaks__n_3 is constant\n",
      "WARNING:tsfresh.feature_selection.relevance:[test_feature_significance] Feature X__number_peaks__n_5 is constant\n",
      "WARNING:tsfresh.feature_selection.relevance:[test_feature_significance] Feature Y__change_quantiles__f_agg_\"mean\"__isabs_False__qh_0.4__ql_0.6 is constant\n",
      "WARNING:tsfresh.feature_selection.relevance:[test_feature_significance] Feature Y__change_quantiles__f_agg_\"mean\"__isabs_False__qh_0.4__ql_0.8 is constant\n",
      "WARNING:tsfresh.feature_selection.relevance:[test_feature_significance] Feature X__number_peaks__n_50 is constant\n",
      "WARNING:tsfresh.feature_selection.relevance:[test_feature_significance] Feature Y__change_quantiles__f_agg_\"mean\"__isabs_False__qh_0.6__ql_0.6 is constant\n",
      "WARNING:tsfresh.feature_selection.relevance:[test_feature_significance] Feature X__partial_autocorrelation__lag_0 is constant\n",
      "WARNING:tsfresh.feature_selection.relevance:[test_feature_significance] Feature Y__change_quantiles__f_agg_\"mean\"__isabs_False__qh_0.6__ql_0.8 is constant\n",
      "WARNING:tsfresh.feature_selection.relevance:[test_feature_significance] Feature Y__change_quantiles__f_agg_\"mean\"__isabs_False__qh_0.8__ql_0.8 is constant\n",
      "WARNING:tsfresh.feature_selection.relevance:[test_feature_significance] Feature Y__change_quantiles__f_agg_\"mean\"__isabs_True__qh_0.2__ql_0.2 is constant\n",
      "WARNING:tsfresh.feature_selection.relevance:[test_feature_significance] Feature Y__change_quantiles__f_agg_\"mean\"__isabs_True__qh_0.2__ql_0.4 is constant\n",
      "WARNING:tsfresh.feature_selection.relevance:[test_feature_significance] Feature Y__change_quantiles__f_agg_\"mean\"__isabs_True__qh_0.2__ql_0.6 is constant\n",
      "WARNING:tsfresh.feature_selection.relevance:[test_feature_significance] Feature Y__change_quantiles__f_agg_\"mean\"__isabs_True__qh_0.2__ql_0.8 is constant\n",
      "WARNING:tsfresh.feature_selection.relevance:[test_feature_significance] Feature Y__change_quantiles__f_agg_\"mean\"__isabs_True__qh_0.4__ql_0.4 is constant\n",
      "WARNING:tsfresh.feature_selection.relevance:[test_feature_significance] Feature Y__change_quantiles__f_agg_\"mean\"__isabs_True__qh_0.4__ql_0.6 is constant\n",
      "WARNING:tsfresh.feature_selection.relevance:[test_feature_significance] Feature Y__change_quantiles__f_agg_\"mean\"__isabs_True__qh_0.4__ql_0.8 is constant\n",
      "WARNING:tsfresh.feature_selection.relevance:[test_feature_significance] Feature X__range_count__max_1__min_-1 is constant\n",
      "WARNING:tsfresh.feature_selection.relevance:[test_feature_significance] Feature Y__change_quantiles__f_agg_\"mean\"__isabs_True__qh_0.6__ql_0.6 is constant\n",
      "WARNING:tsfresh.feature_selection.relevance:[test_feature_significance] Feature Y__change_quantiles__f_agg_\"mean\"__isabs_True__qh_0.6__ql_0.8 is constant\n",
      "WARNING:tsfresh.feature_selection.relevance:[test_feature_significance] Feature Y__change_quantiles__f_agg_\"mean\"__isabs_True__qh_0.8__ql_0.8 is constant\n",
      "WARNING:tsfresh.feature_selection.relevance:[test_feature_significance] Feature X__ratio_beyond_r_sigma__r_10 is constant\n",
      "WARNING:tsfresh.feature_selection.relevance:[test_feature_significance] Feature Y__change_quantiles__f_agg_\"var\"__isabs_False__qh_0.2__ql_0.2 is constant\n",
      "WARNING:tsfresh.feature_selection.relevance:[test_feature_significance] Feature Y__change_quantiles__f_agg_\"var\"__isabs_False__qh_0.2__ql_0.4 is constant\n",
      "WARNING:tsfresh.feature_selection.relevance:[test_feature_significance] Feature Y__change_quantiles__f_agg_\"var\"__isabs_False__qh_0.2__ql_0.6 is constant\n",
      "WARNING:tsfresh.feature_selection.relevance:[test_feature_significance] Feature Y__change_quantiles__f_agg_\"var\"__isabs_False__qh_0.2__ql_0.8 is constant\n",
      "WARNING:tsfresh.feature_selection.relevance:[test_feature_significance] Feature X__ratio_beyond_r_sigma__r_6 is constant\n",
      "WARNING:tsfresh.feature_selection.relevance:[test_feature_significance] Feature Y__change_quantiles__f_agg_\"var\"__isabs_False__qh_0.4__ql_0.4 is constant\n",
      "WARNING:tsfresh.feature_selection.relevance:[test_feature_significance] Feature X__ratio_beyond_r_sigma__r_7 is constant\n",
      "WARNING:tsfresh.feature_selection.relevance:[test_feature_significance] Feature Y__change_quantiles__f_agg_\"var\"__isabs_False__qh_0.4__ql_0.6 is constant\n",
      "WARNING:tsfresh.feature_selection.relevance:[test_feature_significance] Feature Y__change_quantiles__f_agg_\"var\"__isabs_False__qh_0.4__ql_0.8 is constant\n",
      "WARNING:tsfresh.feature_selection.relevance:[test_feature_significance] Feature X__symmetry_looking__r_0.0 is constant\n",
      "WARNING:tsfresh.feature_selection.relevance:[test_feature_significance] Feature Y__change_quantiles__f_agg_\"var\"__isabs_False__qh_0.6__ql_0.6 is constant\n",
      "WARNING:tsfresh.feature_selection.relevance:[test_feature_significance] Feature Y__change_quantiles__f_agg_\"var\"__isabs_False__qh_0.6__ql_0.8 is constant\n",
      "WARNING:tsfresh.feature_selection.relevance:[test_feature_significance] Feature X__symmetry_looking__r_0.5 is constant\n",
      "WARNING:tsfresh.feature_selection.relevance:[test_feature_significance] Feature X__symmetry_looking__r_0.55 is constant\n",
      "WARNING:tsfresh.feature_selection.relevance:[test_feature_significance] Feature X__symmetry_looking__r_0.6 is constant\n",
      "WARNING:tsfresh.feature_selection.relevance:[test_feature_significance] Feature X__symmetry_looking__r_0.65 is constant\n",
      "WARNING:tsfresh.feature_selection.relevance:[test_feature_significance] Feature Y__change_quantiles__f_agg_\"var\"__isabs_False__qh_0.8__ql_0.8 is constant\n"
     ]
    },
    {
     "name": "stderr",
     "output_type": "stream",
     "text": [
      "WARNING:tsfresh.feature_selection.relevance:[test_feature_significance] Feature X__symmetry_looking__r_0.7 is constant\n",
      "WARNING:tsfresh.feature_selection.relevance:[test_feature_significance] Feature X__symmetry_looking__r_0.75 is constant\n",
      "WARNING:tsfresh.feature_selection.relevance:[test_feature_significance] Feature X__symmetry_looking__r_0.8 is constant\n",
      "WARNING:tsfresh.feature_selection.relevance:[test_feature_significance] Feature X__symmetry_looking__r_0.85 is constant\n",
      "WARNING:tsfresh.feature_selection.relevance:[test_feature_significance] Feature Y__change_quantiles__f_agg_\"var\"__isabs_True__qh_0.2__ql_0.2 is constant\n",
      "WARNING:tsfresh.feature_selection.relevance:[test_feature_significance] Feature X__symmetry_looking__r_0.9 is constant\n",
      "WARNING:tsfresh.feature_selection.relevance:[test_feature_significance] Feature X__symmetry_looking__r_0.95 is constant\n",
      "WARNING:tsfresh.feature_selection.relevance:[test_feature_significance] Feature Y__change_quantiles__f_agg_\"var\"__isabs_True__qh_0.2__ql_0.4 is constant\n",
      "WARNING:tsfresh.feature_selection.relevance:[test_feature_significance] Feature Y__change_quantiles__f_agg_\"var\"__isabs_True__qh_0.2__ql_0.6 is constant\n",
      "WARNING:tsfresh.feature_selection.relevance:[test_feature_significance] Feature X__value_count__value_-inf is constant\n",
      "WARNING:tsfresh.feature_selection.relevance:[test_feature_significance] Feature Y__change_quantiles__f_agg_\"var\"__isabs_True__qh_0.2__ql_0.8 is constant\n",
      "WARNING:tsfresh.feature_selection.relevance:[test_feature_significance] Feature X__value_count__value_0 is constant\n",
      "WARNING:tsfresh.feature_selection.relevance:[test_feature_significance] Feature X__value_count__value_1 is constant\n",
      "WARNING:tsfresh.feature_selection.relevance:[test_feature_significance] Feature X__value_count__value_inf is constant\n",
      "WARNING:tsfresh.feature_selection.relevance:[test_feature_significance] Feature Y__change_quantiles__f_agg_\"var\"__isabs_True__qh_0.4__ql_0.4 is constant\n",
      "WARNING:tsfresh.feature_selection.relevance:[test_feature_significance] Feature X__value_count__value_nan is constant\n",
      "WARNING:tsfresh.feature_selection.relevance:[test_feature_significance] Feature Y__change_quantiles__f_agg_\"var\"__isabs_True__qh_0.4__ql_0.6 is constant\n",
      "WARNING:tsfresh.feature_selection.relevance:[test_feature_significance] Feature X__variance_larger_than_standard_deviation is constant\n",
      "WARNING:tsfresh.feature_selection.relevance:[test_feature_significance] Feature Y__change_quantiles__f_agg_\"var\"__isabs_True__qh_0.4__ql_0.8 is constant\n",
      "WARNING:tsfresh.feature_selection.relevance:[test_feature_significance] Feature Y__change_quantiles__f_agg_\"var\"__isabs_True__qh_0.6__ql_0.6 is constant\n",
      "WARNING:tsfresh.feature_selection.relevance:[test_feature_significance] Feature Y__change_quantiles__f_agg_\"var\"__isabs_True__qh_0.6__ql_0.8 is constant\n",
      "WARNING:tsfresh.feature_selection.relevance:[test_feature_significance] Feature Y__change_quantiles__f_agg_\"var\"__isabs_True__qh_0.8__ql_0.8 is constant\n",
      "WARNING:tsfresh.feature_selection.relevance:[test_feature_significance] Feature Y__fft_coefficient__coeff_0__attr_\"angle\" is constant\n",
      "WARNING:tsfresh.feature_selection.relevance:[test_feature_significance] Feature Y__fft_coefficient__coeff_0__attr_\"imag\" is constant\n",
      "WARNING:tsfresh.feature_selection.relevance:[test_feature_significance] Feature Y__friedrich_coefficients__m_3__r_30__coeff_0 is constant\n",
      "WARNING:tsfresh.feature_selection.relevance:[test_feature_significance] Feature Y__friedrich_coefficients__m_3__r_30__coeff_1 is constant\n",
      "WARNING:tsfresh.feature_selection.relevance:[test_feature_significance] Feature Y__friedrich_coefficients__m_3__r_30__coeff_2 is constant\n",
      "WARNING:tsfresh.feature_selection.relevance:[test_feature_significance] Feature Y__friedrich_coefficients__m_3__r_30__coeff_3 is constant\n",
      "WARNING:tsfresh.feature_selection.relevance:[test_feature_significance] Feature Y__has_duplicate is constant\n",
      "WARNING:tsfresh.feature_selection.relevance:[test_feature_significance] Feature Y__large_standard_deviation__r_0.05 is constant\n",
      "WARNING:tsfresh.feature_selection.relevance:[test_feature_significance] Feature Y__large_standard_deviation__r_0.1 is constant\n",
      "WARNING:tsfresh.feature_selection.relevance:[test_feature_significance] Feature Y__large_standard_deviation__r_0.5 is constant\n",
      "WARNING:tsfresh.feature_selection.relevance:[test_feature_significance] Feature Y__large_standard_deviation__r_0.55 is constant\n",
      "WARNING:tsfresh.feature_selection.relevance:[test_feature_significance] Feature Y__large_standard_deviation__r_0.6 is constant\n",
      "WARNING:tsfresh.feature_selection.relevance:[test_feature_significance] Feature Y__large_standard_deviation__r_0.65 is constant\n",
      "WARNING:tsfresh.feature_selection.relevance:[test_feature_significance] Feature Y__large_standard_deviation__r_0.7 is constant\n",
      "WARNING:tsfresh.feature_selection.relevance:[test_feature_significance] Feature Y__large_standard_deviation__r_0.75 is constant\n",
      "WARNING:tsfresh.feature_selection.relevance:[test_feature_significance] Feature Y__large_standard_deviation__r_0.8 is constant\n",
      "WARNING:tsfresh.feature_selection.relevance:[test_feature_significance] Feature Y__large_standard_deviation__r_0.85 is constant\n",
      "WARNING:tsfresh.feature_selection.relevance:[test_feature_significance] Feature Y__large_standard_deviation__r_0.9 is constant\n",
      "WARNING:tsfresh.feature_selection.relevance:[test_feature_significance] Feature Y__large_standard_deviation__r_0.95 is constant\n",
      "WARNING:tsfresh.feature_selection.relevance:[test_feature_significance] Feature Y__length is constant\n",
      "WARNING:tsfresh.feature_selection.relevance:[test_feature_significance] Feature Y__max_langevin_fixed_point__m_3__r_30 is constant\n",
      "WARNING:tsfresh.feature_selection.relevance:[test_feature_significance] Feature Y__number_crossing_m__m_-1 is constant\n",
      "WARNING:tsfresh.feature_selection.relevance:[test_feature_significance] Feature Y__number_crossing_m__m_0 is constant\n",
      "WARNING:tsfresh.feature_selection.relevance:[test_feature_significance] Feature Y__number_crossing_m__m_1 is constant\n",
      "WARNING:tsfresh.feature_selection.relevance:[test_feature_significance] Feature Y__number_peaks__n_1 is constant\n",
      "WARNING:tsfresh.feature_selection.relevance:[test_feature_significance] Feature Y__number_peaks__n_10 is constant\n",
      "WARNING:tsfresh.feature_selection.relevance:[test_feature_significance] Feature Y__number_peaks__n_3 is constant\n",
      "WARNING:tsfresh.feature_selection.relevance:[test_feature_significance] Feature Y__number_peaks__n_5 is constant\n",
      "WARNING:tsfresh.feature_selection.relevance:[test_feature_significance] Feature Y__number_peaks__n_50 is constant\n",
      "WARNING:tsfresh.feature_selection.relevance:[test_feature_significance] Feature Y__partial_autocorrelation__lag_0 is constant\n",
      "WARNING:tsfresh.feature_selection.relevance:[test_feature_significance] Feature Y__range_count__max_1__min_-1 is constant\n",
      "WARNING:tsfresh.feature_selection.relevance:[test_feature_significance] Feature Y__ratio_beyond_r_sigma__r_10 is constant\n",
      "WARNING:tsfresh.feature_selection.relevance:[test_feature_significance] Feature Y__symmetry_looking__r_0.0 is constant\n",
      "WARNING:tsfresh.feature_selection.relevance:[test_feature_significance] Feature Y__symmetry_looking__r_0.45 is constant\n",
      "WARNING:tsfresh.feature_selection.relevance:[test_feature_significance] Feature Y__symmetry_looking__r_0.5 is constant\n",
      "WARNING:tsfresh.feature_selection.relevance:[test_feature_significance] Feature Y__symmetry_looking__r_0.55 is constant\n",
      "WARNING:tsfresh.feature_selection.relevance:[test_feature_significance] Feature Y__symmetry_looking__r_0.6 is constant\n",
      "WARNING:tsfresh.feature_selection.relevance:[test_feature_significance] Feature Y__symmetry_looking__r_0.65 is constant\n",
      "WARNING:tsfresh.feature_selection.relevance:[test_feature_significance] Feature Y__symmetry_looking__r_0.7 is constant\n",
      "WARNING:tsfresh.feature_selection.relevance:[test_feature_significance] Feature Y__symmetry_looking__r_0.75 is constant\n",
      "WARNING:tsfresh.feature_selection.relevance:[test_feature_significance] Feature Y__symmetry_looking__r_0.8 is constant\n",
      "WARNING:tsfresh.feature_selection.relevance:[test_feature_significance] Feature Y__symmetry_looking__r_0.85 is constant\n",
      "WARNING:tsfresh.feature_selection.relevance:[test_feature_significance] Feature Y__symmetry_looking__r_0.9 is constant\n"
     ]
    },
    {
     "name": "stderr",
     "output_type": "stream",
     "text": [
      "WARNING:tsfresh.feature_selection.relevance:[test_feature_significance] Feature Y__symmetry_looking__r_0.95 is constant\n",
      "WARNING:tsfresh.feature_selection.relevance:[test_feature_significance] Feature Y__value_count__value_-inf is constant\n",
      "WARNING:tsfresh.feature_selection.relevance:[test_feature_significance] Feature Y__value_count__value_0 is constant\n",
      "WARNING:tsfresh.feature_selection.relevance:[test_feature_significance] Feature Y__value_count__value_1 is constant\n",
      "WARNING:tsfresh.feature_selection.relevance:[test_feature_significance] Feature Y__value_count__value_inf is constant\n",
      "WARNING:tsfresh.feature_selection.relevance:[test_feature_significance] Feature Y__value_count__value_nan is constant\n",
      "WARNING:tsfresh.feature_selection.significance_tests:[target_binary_feature_binary_test] A binary feature should have only values 1 and 0 (incl. True and False). Instead found set([0.998, 1.0]) in feature ''X__percentage_of_reoccurring_values_to_all_values''.\n",
      "WARNING:tsfresh.feature_selection.significance_tests:[target_binary_feature_binary_test] A binary feature should have only values 1 and 0 (incl. True and False). Instead found set([0.0, 0.016]) in feature ''X__ratio_beyond_r_sigma__r_5''.\n",
      "WARNING:tsfresh.feature_selection.significance_tests:[target_binary_feature_binary_test] A binary feature should have only values 1 and 0 (incl. True and False). Instead found set([0.998, 1.0]) in feature ''Y__percentage_of_reoccurring_values_to_all_values''.\n",
      "WARNING:tsfresh.feature_selection.significance_tests:[target_binary_feature_binary_test] A binary feature should have only values 1 and 0 (incl. True and False). Instead found set([0.998, 1.0]) in feature ''X__percentage_of_reoccurring_values_to_all_values''.\n",
      "WARNING:tsfresh.feature_selection.significance_tests:[target_binary_feature_binary_test] A binary feature should have only values 1 and 0 (incl. True and False). Instead found set([0.0, 0.016]) in feature ''X__ratio_beyond_r_sigma__r_5''.\n",
      "WARNING:tsfresh.feature_selection.significance_tests:[target_binary_feature_binary_test] A binary feature should have only values 1 and 0 (incl. True and False). Instead found set([0.998, 1.0]) in feature ''Y__percentage_of_reoccurring_values_to_all_values''.\n",
      "WARNING:tsfresh.feature_selection.significance_tests:[target_binary_feature_binary_test] A binary feature should have only values 1 and 0 (incl. True and False). Instead found set([0.998, 1.0]) in feature ''X__percentage_of_reoccurring_values_to_all_values''.\n",
      "WARNING:tsfresh.feature_selection.significance_tests:[target_binary_feature_binary_test] A binary feature should have only values 1 and 0 (incl. True and False). Instead found set([0.0, 0.016]) in feature ''X__ratio_beyond_r_sigma__r_5''.\n",
      "WARNING:tsfresh.feature_selection.significance_tests:[target_binary_feature_binary_test] A binary feature should have only values 1 and 0 (incl. True and False). Instead found set([0.998, 1.0]) in feature ''Y__percentage_of_reoccurring_values_to_all_values''.\n"
     ]
    }
   ],
   "source": [
    "features_filtered_direct = extract_relevant_features(TIMESERIES, LABELSPREP,\n",
    "                                                     column_id='id', column_sort='time')"
   ]
  },
  {
   "cell_type": "markdown",
   "metadata": {},
   "source": [
    "In this next section I dumped the data into a pickle (commented out). Here I can load the pickle object.   "
   ]
  },
  {
   "cell_type": "code",
   "execution_count": 16,
   "metadata": {},
   "outputs": [],
   "source": [
    "# Dump the data. \n",
    "import dill                            \n",
    "filename = 'T_S_dump_clean2.pkl'\n",
    "dill.dump_session(os.path.join(PATH,filename))\n",
    "# Load the data\n",
    "#import dill\n",
    "#PATH='/Users/nicholashedger/Documents'\n",
    "#dill.load_session(os.path.join(PATH,'T_S_dump_clean.pkl'))\n"
   ]
  },
  {
   "cell_type": "markdown",
   "metadata": {},
   "source": [
    "Inspect the structure of the extracted features. It's in a pandas dataframe format."
   ]
  },
  {
   "cell_type": "code",
   "execution_count": 17,
   "metadata": {},
   "outputs": [
    {
     "data": {
      "text/html": [
       "<div>\n",
       "<style>\n",
       "    .dataframe thead tr:only-child th {\n",
       "        text-align: right;\n",
       "    }\n",
       "\n",
       "    .dataframe thead th {\n",
       "        text-align: left;\n",
       "    }\n",
       "\n",
       "    .dataframe tbody tr th {\n",
       "        vertical-align: top;\n",
       "    }\n",
       "</style>\n",
       "<table border=\"1\" class=\"dataframe\">\n",
       "  <thead>\n",
       "    <tr style=\"text-align: right;\">\n",
       "      <th>variable</th>\n",
       "      <th>X__agg_linear_trend__f_agg_\"mean\"__chunk_len_50__attr_\"stderr\"</th>\n",
       "      <th>X__agg_linear_trend__f_agg_\"mean\"__chunk_len_10__attr_\"stderr\"</th>\n",
       "      <th>X__agg_linear_trend__f_agg_\"min\"__chunk_len_5__attr_\"stderr\"</th>\n",
       "      <th>X__agg_linear_trend__f_agg_\"min\"__chunk_len_10__attr_\"stderr\"</th>\n",
       "      <th>X__agg_linear_trend__f_agg_\"mean\"__chunk_len_5__attr_\"stderr\"</th>\n",
       "      <th>X__linear_trend__attr_\"stderr\"</th>\n",
       "      <th>X__agg_linear_trend__f_agg_\"max\"__chunk_len_5__attr_\"stderr\"</th>\n",
       "      <th>X__agg_linear_trend__f_agg_\"max\"__chunk_len_10__attr_\"stderr\"</th>\n",
       "      <th>X__kurtosis</th>\n",
       "      <th>X__standard_deviation</th>\n",
       "      <th>...</th>\n",
       "      <th>Y__fft_coefficient__coeff_90__attr_\"imag\"</th>\n",
       "      <th>Y__approximate_entropy__m_2__r_0.1</th>\n",
       "      <th>X__cwt_coefficients__widths_(2, 5, 10, 20)__coeff_9__w_20</th>\n",
       "      <th>X__sum_of_reoccurring_values</th>\n",
       "      <th>Y__fft_coefficient__coeff_9__attr_\"angle\"</th>\n",
       "      <th>Y__fft_coefficient__coeff_98__attr_\"abs\"</th>\n",
       "      <th>X__cwt_coefficients__widths_(2, 5, 10, 20)__coeff_7__w_20</th>\n",
       "      <th>X__number_cwt_peaks__n_5</th>\n",
       "      <th>Y__number_cwt_peaks__n_5</th>\n",
       "      <th>X__cwt_coefficients__widths_(2, 5, 10, 20)__coeff_8__w_20</th>\n",
       "    </tr>\n",
       "    <tr>\n",
       "      <th>id</th>\n",
       "      <th></th>\n",
       "      <th></th>\n",
       "      <th></th>\n",
       "      <th></th>\n",
       "      <th></th>\n",
       "      <th></th>\n",
       "      <th></th>\n",
       "      <th></th>\n",
       "      <th></th>\n",
       "      <th></th>\n",
       "      <th></th>\n",
       "      <th></th>\n",
       "      <th></th>\n",
       "      <th></th>\n",
       "      <th></th>\n",
       "      <th></th>\n",
       "      <th></th>\n",
       "      <th></th>\n",
       "      <th></th>\n",
       "      <th></th>\n",
       "      <th></th>\n",
       "    </tr>\n",
       "  </thead>\n",
       "  <tbody>\n",
       "    <tr>\n",
       "      <th>1</th>\n",
       "      <td>28.248321</td>\n",
       "      <td>2.483859</td>\n",
       "      <td>0.883404</td>\n",
       "      <td>2.549584</td>\n",
       "      <td>0.874511</td>\n",
       "      <td>0.078244</td>\n",
       "      <td>0.883486</td>\n",
       "      <td>2.553174</td>\n",
       "      <td>-1.033579</td>\n",
       "      <td>287.759534</td>\n",
       "      <td>...</td>\n",
       "      <td>-40.258427</td>\n",
       "      <td>0.069963</td>\n",
       "      <td>1217.191743</td>\n",
       "      <td>7203.0</td>\n",
       "      <td>46.414173</td>\n",
       "      <td>64.240734</td>\n",
       "      <td>984.664229</td>\n",
       "      <td>12.0</td>\n",
       "      <td>10.0</td>\n",
       "      <td>1104.700379</td>\n",
       "    </tr>\n",
       "    <tr>\n",
       "      <th>2</th>\n",
       "      <td>22.393460</td>\n",
       "      <td>2.057162</td>\n",
       "      <td>0.728844</td>\n",
       "      <td>2.113806</td>\n",
       "      <td>0.721656</td>\n",
       "      <td>0.064599</td>\n",
       "      <td>0.729497</td>\n",
       "      <td>2.074818</td>\n",
       "      <td>-1.820701</td>\n",
       "      <td>341.980806</td>\n",
       "      <td>...</td>\n",
       "      <td>579.302024</td>\n",
       "      <td>0.094173</td>\n",
       "      <td>1355.445661</td>\n",
       "      <td>10356.9</td>\n",
       "      <td>127.041388</td>\n",
       "      <td>170.464387</td>\n",
       "      <td>1175.639462</td>\n",
       "      <td>14.0</td>\n",
       "      <td>15.0</td>\n",
       "      <td>1269.678489</td>\n",
       "    </tr>\n",
       "    <tr>\n",
       "      <th>3</th>\n",
       "      <td>24.862690</td>\n",
       "      <td>2.574773</td>\n",
       "      <td>0.957835</td>\n",
       "      <td>2.761646</td>\n",
       "      <td>0.926814</td>\n",
       "      <td>0.083842</td>\n",
       "      <td>0.946394</td>\n",
       "      <td>2.687527</td>\n",
       "      <td>-1.920211</td>\n",
       "      <td>350.694367</td>\n",
       "      <td>...</td>\n",
       "      <td>21.429221</td>\n",
       "      <td>0.082168</td>\n",
       "      <td>1870.390755</td>\n",
       "      <td>6758.7</td>\n",
       "      <td>-173.930362</td>\n",
       "      <td>180.374767</td>\n",
       "      <td>1698.389264</td>\n",
       "      <td>8.0</td>\n",
       "      <td>7.0</td>\n",
       "      <td>1790.518191</td>\n",
       "    </tr>\n",
       "    <tr>\n",
       "      <th>4</th>\n",
       "      <td>26.305013</td>\n",
       "      <td>2.674280</td>\n",
       "      <td>0.939769</td>\n",
       "      <td>2.659293</td>\n",
       "      <td>0.940621</td>\n",
       "      <td>0.084580</td>\n",
       "      <td>0.965057</td>\n",
       "      <td>2.786454</td>\n",
       "      <td>-1.572209</td>\n",
       "      <td>272.443017</td>\n",
       "      <td>...</td>\n",
       "      <td>228.481765</td>\n",
       "      <td>0.114255</td>\n",
       "      <td>552.178136</td>\n",
       "      <td>11797.6</td>\n",
       "      <td>-176.897301</td>\n",
       "      <td>128.123823</td>\n",
       "      <td>370.411042</td>\n",
       "      <td>15.0</td>\n",
       "      <td>14.0</td>\n",
       "      <td>464.206774</td>\n",
       "    </tr>\n",
       "    <tr>\n",
       "      <th>5</th>\n",
       "      <td>32.434752</td>\n",
       "      <td>2.905584</td>\n",
       "      <td>1.004482</td>\n",
       "      <td>2.799782</td>\n",
       "      <td>1.017527</td>\n",
       "      <td>0.090757</td>\n",
       "      <td>1.025373</td>\n",
       "      <td>2.929346</td>\n",
       "      <td>0.473184</td>\n",
       "      <td>295.437650</td>\n",
       "      <td>...</td>\n",
       "      <td>-293.397024</td>\n",
       "      <td>0.098275</td>\n",
       "      <td>1878.278212</td>\n",
       "      <td>6264.5</td>\n",
       "      <td>76.038133</td>\n",
       "      <td>72.939186</td>\n",
       "      <td>1711.255619</td>\n",
       "      <td>12.0</td>\n",
       "      <td>12.0</td>\n",
       "      <td>1800.674086</td>\n",
       "    </tr>\n",
       "  </tbody>\n",
       "</table>\n",
       "<p>5 rows × 364 columns</p>\n",
       "</div>"
      ],
      "text/plain": [
       "variable  X__agg_linear_trend__f_agg_\"mean\"__chunk_len_50__attr_\"stderr\"  \\\n",
       "id                                                                         \n",
       "1                                                 28.248321                \n",
       "2                                                 22.393460                \n",
       "3                                                 24.862690                \n",
       "4                                                 26.305013                \n",
       "5                                                 32.434752                \n",
       "\n",
       "variable  X__agg_linear_trend__f_agg_\"mean\"__chunk_len_10__attr_\"stderr\"  \\\n",
       "id                                                                         \n",
       "1                                                  2.483859                \n",
       "2                                                  2.057162                \n",
       "3                                                  2.574773                \n",
       "4                                                  2.674280                \n",
       "5                                                  2.905584                \n",
       "\n",
       "variable  X__agg_linear_trend__f_agg_\"min\"__chunk_len_5__attr_\"stderr\"  \\\n",
       "id                                                                       \n",
       "1                                                  0.883404              \n",
       "2                                                  0.728844              \n",
       "3                                                  0.957835              \n",
       "4                                                  0.939769              \n",
       "5                                                  1.004482              \n",
       "\n",
       "variable  X__agg_linear_trend__f_agg_\"min\"__chunk_len_10__attr_\"stderr\"  \\\n",
       "id                                                                        \n",
       "1                                                  2.549584               \n",
       "2                                                  2.113806               \n",
       "3                                                  2.761646               \n",
       "4                                                  2.659293               \n",
       "5                                                  2.799782               \n",
       "\n",
       "variable  X__agg_linear_trend__f_agg_\"mean\"__chunk_len_5__attr_\"stderr\"  \\\n",
       "id                                                                        \n",
       "1                                                  0.874511               \n",
       "2                                                  0.721656               \n",
       "3                                                  0.926814               \n",
       "4                                                  0.940621               \n",
       "5                                                  1.017527               \n",
       "\n",
       "variable  X__linear_trend__attr_\"stderr\"  \\\n",
       "id                                         \n",
       "1                               0.078244   \n",
       "2                               0.064599   \n",
       "3                               0.083842   \n",
       "4                               0.084580   \n",
       "5                               0.090757   \n",
       "\n",
       "variable  X__agg_linear_trend__f_agg_\"max\"__chunk_len_5__attr_\"stderr\"  \\\n",
       "id                                                                       \n",
       "1                                                  0.883486              \n",
       "2                                                  0.729497              \n",
       "3                                                  0.946394              \n",
       "4                                                  0.965057              \n",
       "5                                                  1.025373              \n",
       "\n",
       "variable  X__agg_linear_trend__f_agg_\"max\"__chunk_len_10__attr_\"stderr\"  \\\n",
       "id                                                                        \n",
       "1                                                  2.553174               \n",
       "2                                                  2.074818               \n",
       "3                                                  2.687527               \n",
       "4                                                  2.786454               \n",
       "5                                                  2.929346               \n",
       "\n",
       "variable  X__kurtosis  X__standard_deviation  \\\n",
       "id                                             \n",
       "1           -1.033579             287.759534   \n",
       "2           -1.820701             341.980806   \n",
       "3           -1.920211             350.694367   \n",
       "4           -1.572209             272.443017   \n",
       "5            0.473184             295.437650   \n",
       "\n",
       "variable                            ...                              \\\n",
       "id                                  ...                               \n",
       "1                                   ...                               \n",
       "2                                   ...                               \n",
       "3                                   ...                               \n",
       "4                                   ...                               \n",
       "5                                   ...                               \n",
       "\n",
       "variable  Y__fft_coefficient__coeff_90__attr_\"imag\"  \\\n",
       "id                                                    \n",
       "1                                        -40.258427   \n",
       "2                                        579.302024   \n",
       "3                                         21.429221   \n",
       "4                                        228.481765   \n",
       "5                                       -293.397024   \n",
       "\n",
       "variable  Y__approximate_entropy__m_2__r_0.1  \\\n",
       "id                                             \n",
       "1                                   0.069963   \n",
       "2                                   0.094173   \n",
       "3                                   0.082168   \n",
       "4                                   0.114255   \n",
       "5                                   0.098275   \n",
       "\n",
       "variable  X__cwt_coefficients__widths_(2, 5, 10, 20)__coeff_9__w_20  \\\n",
       "id                                                                    \n",
       "1                                               1217.191743           \n",
       "2                                               1355.445661           \n",
       "3                                               1870.390755           \n",
       "4                                                552.178136           \n",
       "5                                               1878.278212           \n",
       "\n",
       "variable  X__sum_of_reoccurring_values  \\\n",
       "id                                       \n",
       "1                               7203.0   \n",
       "2                              10356.9   \n",
       "3                               6758.7   \n",
       "4                              11797.6   \n",
       "5                               6264.5   \n",
       "\n",
       "variable  Y__fft_coefficient__coeff_9__attr_\"angle\"  \\\n",
       "id                                                    \n",
       "1                                         46.414173   \n",
       "2                                        127.041388   \n",
       "3                                       -173.930362   \n",
       "4                                       -176.897301   \n",
       "5                                         76.038133   \n",
       "\n",
       "variable  Y__fft_coefficient__coeff_98__attr_\"abs\"  \\\n",
       "id                                                   \n",
       "1                                        64.240734   \n",
       "2                                       170.464387   \n",
       "3                                       180.374767   \n",
       "4                                       128.123823   \n",
       "5                                        72.939186   \n",
       "\n",
       "variable  X__cwt_coefficients__widths_(2, 5, 10, 20)__coeff_7__w_20  \\\n",
       "id                                                                    \n",
       "1                                                984.664229           \n",
       "2                                               1175.639462           \n",
       "3                                               1698.389264           \n",
       "4                                                370.411042           \n",
       "5                                               1711.255619           \n",
       "\n",
       "variable  X__number_cwt_peaks__n_5  Y__number_cwt_peaks__n_5  \\\n",
       "id                                                             \n",
       "1                             12.0                      10.0   \n",
       "2                             14.0                      15.0   \n",
       "3                              8.0                       7.0   \n",
       "4                             15.0                      14.0   \n",
       "5                             12.0                      12.0   \n",
       "\n",
       "variable  X__cwt_coefficients__widths_(2, 5, 10, 20)__coeff_8__w_20  \n",
       "id                                                                   \n",
       "1                                               1104.700379          \n",
       "2                                               1269.678489          \n",
       "3                                               1790.518191          \n",
       "4                                                464.206774          \n",
       "5                                               1800.674086          \n",
       "\n",
       "[5 rows x 364 columns]"
      ]
     },
     "execution_count": 17,
     "metadata": {},
     "output_type": "execute_result"
    }
   ],
   "source": [
    "features_filtered_direct.head()"
   ]
  },
  {
   "cell_type": "markdown",
   "metadata": {},
   "source": [
    "Order the features by their relevance and show the 10 most relevant"
   ]
  },
  {
   "cell_type": "code",
   "execution_count": 18,
   "metadata": {},
   "outputs": [
    {
     "name": "stderr",
     "output_type": "stream",
     "text": [
      "WARNING:tsfresh.feature_selection.relevance:Infered classification as machine learning task\n"
     ]
    }
   ],
   "source": [
    "#from tsfresh.feature_selection.relevance import calculate_relevance_table\n",
    "templab=pd.Series(LABELSPREP,index=np.unique(TIMESERIES[\"id\"]))\n",
    "templab.head()\n",
    "templab.unique\n",
    "from tsfresh.feature_selection.relevance import calculate_relevance_table\n",
    "sigtable=calculate_relevance_table(X=features_filtered_direct,y=templab)"
   ]
  },
  {
   "cell_type": "code",
   "execution_count": 19,
   "metadata": {
    "scrolled": true
   },
   "outputs": [
    {
     "data": {
      "text/html": [
       "<div>\n",
       "<style>\n",
       "    .dataframe thead tr:only-child th {\n",
       "        text-align: right;\n",
       "    }\n",
       "\n",
       "    .dataframe thead th {\n",
       "        text-align: left;\n",
       "    }\n",
       "\n",
       "    .dataframe tbody tr th {\n",
       "        vertical-align: top;\n",
       "    }\n",
       "</style>\n",
       "<table border=\"1\" class=\"dataframe\">\n",
       "  <thead>\n",
       "    <tr style=\"text-align: right;\">\n",
       "      <th></th>\n",
       "      <th>feature</th>\n",
       "      <th>type</th>\n",
       "      <th>p_value</th>\n",
       "      <th>relevant</th>\n",
       "    </tr>\n",
       "    <tr>\n",
       "      <th>feature</th>\n",
       "      <th></th>\n",
       "      <th></th>\n",
       "      <th></th>\n",
       "      <th></th>\n",
       "    </tr>\n",
       "  </thead>\n",
       "  <tbody>\n",
       "    <tr>\n",
       "      <th>X__agg_linear_trend__f_agg_\"mean\"__chunk_len_50__attr_\"stderr\"</th>\n",
       "      <td>X__agg_linear_trend__f_agg_\"mean\"__chunk_len_5...</td>\n",
       "      <td>real</td>\n",
       "      <td>2.015952e-14</td>\n",
       "      <td>True</td>\n",
       "    </tr>\n",
       "    <tr>\n",
       "      <th>X__agg_linear_trend__f_agg_\"mean\"__chunk_len_10__attr_\"stderr\"</th>\n",
       "      <td>X__agg_linear_trend__f_agg_\"mean\"__chunk_len_1...</td>\n",
       "      <td>real</td>\n",
       "      <td>7.389946e-14</td>\n",
       "      <td>True</td>\n",
       "    </tr>\n",
       "    <tr>\n",
       "      <th>X__agg_linear_trend__f_agg_\"min\"__chunk_len_5__attr_\"stderr\"</th>\n",
       "      <td>X__agg_linear_trend__f_agg_\"min\"__chunk_len_5_...</td>\n",
       "      <td>real</td>\n",
       "      <td>1.157249e-13</td>\n",
       "      <td>True</td>\n",
       "    </tr>\n",
       "    <tr>\n",
       "      <th>X__agg_linear_trend__f_agg_\"min\"__chunk_len_10__attr_\"stderr\"</th>\n",
       "      <td>X__agg_linear_trend__f_agg_\"min\"__chunk_len_10...</td>\n",
       "      <td>real</td>\n",
       "      <td>1.196621e-13</td>\n",
       "      <td>True</td>\n",
       "    </tr>\n",
       "    <tr>\n",
       "      <th>X__agg_linear_trend__f_agg_\"mean\"__chunk_len_5__attr_\"stderr\"</th>\n",
       "      <td>X__agg_linear_trend__f_agg_\"mean\"__chunk_len_5...</td>\n",
       "      <td>real</td>\n",
       "      <td>1.590020e-13</td>\n",
       "      <td>True</td>\n",
       "    </tr>\n",
       "    <tr>\n",
       "      <th>X__linear_trend__attr_\"stderr\"</th>\n",
       "      <td>X__linear_trend__attr_\"stderr\"</td>\n",
       "      <td>real</td>\n",
       "      <td>2.250309e-13</td>\n",
       "      <td>True</td>\n",
       "    </tr>\n",
       "    <tr>\n",
       "      <th>X__agg_linear_trend__f_agg_\"max\"__chunk_len_5__attr_\"stderr\"</th>\n",
       "      <td>X__agg_linear_trend__f_agg_\"max\"__chunk_len_5_...</td>\n",
       "      <td>real</td>\n",
       "      <td>3.091053e-13</td>\n",
       "      <td>True</td>\n",
       "    </tr>\n",
       "    <tr>\n",
       "      <th>X__agg_linear_trend__f_agg_\"max\"__chunk_len_10__attr_\"stderr\"</th>\n",
       "      <td>X__agg_linear_trend__f_agg_\"max\"__chunk_len_10...</td>\n",
       "      <td>real</td>\n",
       "      <td>9.781852e-13</td>\n",
       "      <td>True</td>\n",
       "    </tr>\n",
       "    <tr>\n",
       "      <th>X__kurtosis</th>\n",
       "      <td>X__kurtosis</td>\n",
       "      <td>real</td>\n",
       "      <td>1.466326e-16</td>\n",
       "      <td>True</td>\n",
       "    </tr>\n",
       "    <tr>\n",
       "      <th>X__standard_deviation</th>\n",
       "      <td>X__standard_deviation</td>\n",
       "      <td>real</td>\n",
       "      <td>3.414399e-11</td>\n",
       "      <td>True</td>\n",
       "    </tr>\n",
       "  </tbody>\n",
       "</table>\n",
       "</div>"
      ],
      "text/plain": [
       "                                                                                              feature  \\\n",
       "feature                                                                                                 \n",
       "X__agg_linear_trend__f_agg_\"mean\"__chunk_len_50...  X__agg_linear_trend__f_agg_\"mean\"__chunk_len_5...   \n",
       "X__agg_linear_trend__f_agg_\"mean\"__chunk_len_10...  X__agg_linear_trend__f_agg_\"mean\"__chunk_len_1...   \n",
       "X__agg_linear_trend__f_agg_\"min\"__chunk_len_5__...  X__agg_linear_trend__f_agg_\"min\"__chunk_len_5_...   \n",
       "X__agg_linear_trend__f_agg_\"min\"__chunk_len_10_...  X__agg_linear_trend__f_agg_\"min\"__chunk_len_10...   \n",
       "X__agg_linear_trend__f_agg_\"mean\"__chunk_len_5_...  X__agg_linear_trend__f_agg_\"mean\"__chunk_len_5...   \n",
       "X__linear_trend__attr_\"stderr\"                                         X__linear_trend__attr_\"stderr\"   \n",
       "X__agg_linear_trend__f_agg_\"max\"__chunk_len_5__...  X__agg_linear_trend__f_agg_\"max\"__chunk_len_5_...   \n",
       "X__agg_linear_trend__f_agg_\"max\"__chunk_len_10_...  X__agg_linear_trend__f_agg_\"max\"__chunk_len_10...   \n",
       "X__kurtosis                                                                               X__kurtosis   \n",
       "X__standard_deviation                                                           X__standard_deviation   \n",
       "\n",
       "                                                    type       p_value  \\\n",
       "feature                                                                  \n",
       "X__agg_linear_trend__f_agg_\"mean\"__chunk_len_50...  real  2.015952e-14   \n",
       "X__agg_linear_trend__f_agg_\"mean\"__chunk_len_10...  real  7.389946e-14   \n",
       "X__agg_linear_trend__f_agg_\"min\"__chunk_len_5__...  real  1.157249e-13   \n",
       "X__agg_linear_trend__f_agg_\"min\"__chunk_len_10_...  real  1.196621e-13   \n",
       "X__agg_linear_trend__f_agg_\"mean\"__chunk_len_5_...  real  1.590020e-13   \n",
       "X__linear_trend__attr_\"stderr\"                      real  2.250309e-13   \n",
       "X__agg_linear_trend__f_agg_\"max\"__chunk_len_5__...  real  3.091053e-13   \n",
       "X__agg_linear_trend__f_agg_\"max\"__chunk_len_10_...  real  9.781852e-13   \n",
       "X__kurtosis                                         real  1.466326e-16   \n",
       "X__standard_deviation                               real  3.414399e-11   \n",
       "\n",
       "                                                    relevant  \n",
       "feature                                                       \n",
       "X__agg_linear_trend__f_agg_\"mean\"__chunk_len_50...      True  \n",
       "X__agg_linear_trend__f_agg_\"mean\"__chunk_len_10...      True  \n",
       "X__agg_linear_trend__f_agg_\"min\"__chunk_len_5__...      True  \n",
       "X__agg_linear_trend__f_agg_\"min\"__chunk_len_10_...      True  \n",
       "X__agg_linear_trend__f_agg_\"mean\"__chunk_len_5_...      True  \n",
       "X__linear_trend__attr_\"stderr\"                          True  \n",
       "X__agg_linear_trend__f_agg_\"max\"__chunk_len_5__...      True  \n",
       "X__agg_linear_trend__f_agg_\"max\"__chunk_len_10_...      True  \n",
       "X__kurtosis                                             True  \n",
       "X__standard_deviation                                   True  "
      ]
     },
     "execution_count": 19,
     "metadata": {},
     "output_type": "execute_result"
    }
   ],
   "source": [
    "sigtable.head(n=10)"
   ]
  },
  {
   "cell_type": "markdown",
   "metadata": {},
   "source": [
    "Define a function for showing the timeseries that represent the highest and lowest of a feature."
   ]
  },
  {
   "cell_type": "code",
   "execution_count": 20,
   "metadata": {},
   "outputs": [],
   "source": [
    "def SHOWFEATURE(feature):\n",
    "    reldim=feature[0]\n",
    "    fig, ax = plt.subplots(figsize=(20, 20))\n",
    "    for i in range(4): # Plot the top 4 instances\n",
    "        for j in range(4):\n",
    "            ax = plt.subplot2grid((4,4), (i,j))\n",
    "            if j==0: \n",
    "                league=features_filtered_direct.sort_values(by=[feature],ascending=True) # The lowest values\n",
    "                idt=league.iloc[[i]].index[0] # Get the id\n",
    "                var=round(league[feature].iloc[i],3) # Get the value of the variable\n",
    "                instance=TIMESERIES[(TIMESERIES[\"id\"]==idt)] # Get the timeseries corresponding to the ID\n",
    "                plt.axis([100,1500,300,900])\n",
    "                rect=patches.Rectangle((168,378),544,444,facecolor='none',edgecolor='r') # Plot the grid area\n",
    "                rect2=patches.Rectangle((888,378),544,444,facecolor='none',edgecolor='r')\n",
    "                num=SCRAMLAB.iloc[idt-1,0] # Reference the timeseries with the label to determine whether it was scrambled or not\n",
    "                ax.add_patch(rect)\n",
    "                ax.add_patch(rect2)\n",
    "                lab=\"ID= %d, var= %f Scram = %d\" % (idt,var,num)\n",
    "                ax.set_title(lab)\n",
    "                ax.plot(instance['X'],instance['Y'])\n",
    "            elif j==1:\n",
    "                league=features_filtered_direct.sort_values(by=[feature],ascending=False) # The highest values\n",
    "                idt=league.iloc[[i]].index[0] # Get the id\n",
    "                var=round(league[feature].iloc[i],3) # Get the value of the variable\n",
    "                instance=TIMESERIES[(TIMESERIES[\"id\"]==idt)] # Get the timeseries corresponding to the ID\n",
    "                plt.axis([100,1500,300,900])\n",
    "                rect=patches.Rectangle((168,378),544,444,facecolor='none',edgecolor='r') # Plot the grid area\n",
    "                rect2=patches.Rectangle((888,378),544,444,facecolor='none',edgecolor='r')\n",
    "                num=SCRAMLAB.iloc[idt-1,0] # Reference the timeseries with the label to determine whether it was scrambled or not\n",
    "                ax.add_patch(rect)\n",
    "                ax.add_patch(rect2)\n",
    "                lab=\"ID= %d, var= %f Scram = %d\" % (idt,var,num)\n",
    "                ax.set_title(lab)\n",
    "                ax.plot(instance['X'],instance['Y'])\n",
    "            elif j==2:\n",
    "                league=features_filtered_direct.sort_values(by=[feature],ascending=True) # The highest values\n",
    "                idt=league.iloc[[i]].index[0] # Get the id\n",
    "                var=round(league[feature].iloc[i],3) # Get the value of the variable\n",
    "                instance=TIMESERIES[(TIMESERIES[\"id\"]==idt)] # Get the timeseries corresponding to the ID\n",
    "                num=SCRAMLAB.iloc[idt-1,0] # Reference the timeseries with the label to determine whether it was scrambled or not\n",
    "                lab=\"ID= %d, var= %f Scram = %d\" % (idt,var,num)\n",
    "                ax.set_title(lab)\n",
    "                ax.plot(instance[reldim])\n",
    "                ax.set_ylim(TIMESERIES[reldim].min(), TIMESERIES[reldim].max())\n",
    "            elif j==3:\n",
    "                league=features_filtered_direct.sort_values(by=[feature],ascending=False) # The highest values\n",
    "                idt=league.iloc[[i]].index[0] # Get the id\n",
    "                var=round(league[feature].iloc[i],3) # Get the value of the variable\n",
    "                instance=TIMESERIES[(TIMESERIES[\"id\"]==idt)] # Get the timeseries corresponding to the ID\n",
    "                num=SCRAMLAB.iloc[idt-1,0] # Reference the timeseries with the label to determine whether it was scrambled or not\n",
    "                lab=\"ID= %d, var= %f Scram = %d\" % (idt,var,num)\n",
    "                ax.set_title(lab)\n",
    "                ax.plot(instance[reldim])\n",
    "                ax.set_ylim(TIMESERIES[reldim].min(), TIMESERIES[reldim].max())"
   ]
  },
  {
   "cell_type": "markdown",
   "metadata": {},
   "source": [
    "Now plot the 4 trials that represent the lowest (left) and lowest (right) of the most informative feature. Plot the eye movement trace, but also the timeseries of the relevant dimension (X or Y)."
   ]
  },
  {
   "cell_type": "code",
   "execution_count": 21,
   "metadata": {},
   "outputs": [
    {
     "data": {
      "image/png": "[encoded data removed]",
      "text/plain": [
       "<matplotlib.figure.Figure at 0xa1353a1d0>"
      ]
     },
     "metadata": {},
     "output_type": "display_data"
    }
   ],
   "source": [
    "SHOWFEATURE('X__agg_linear_trend__f_agg_\"mean\"__chunk_len_50__attr_\"stderr\"')"
   ]
  },
  {
   "cell_type": "markdown",
   "metadata": {},
   "source": [
    "Now standardise the feature matrix"
   ]
  },
  {
   "cell_type": "code",
   "execution_count": 22,
   "metadata": {},
   "outputs": [],
   "source": [
    "from sklearn.preprocessing import StandardScaler\n",
    "scaler = StandardScaler()\n",
    "trans=scaler.fit(features_filtered_direct)\n",
    "scaled=scaler.transform(features_filtered_direct)"
   ]
  },
  {
   "cell_type": "markdown",
   "metadata": {},
   "source": [
    "Split the data into a training and test set."
   ]
  },
  {
   "cell_type": "code",
   "execution_count": 23,
   "metadata": {
    "collapsed": true
   },
   "outputs": [],
   "source": [
    "from sklearn.model_selection import train_test_split\n",
    "from sklearn.model_selection import cross_val_score\n",
    "\n",
    "X_train, X_test, y_train, y_test = train_test_split(scaled, LABELSPREP, test_size=.2)\n"
   ]
  },
  {
   "cell_type": "markdown",
   "metadata": {},
   "source": [
    "Fit a random forest classifier to the training data."
   ]
  },
  {
   "cell_type": "code",
   "execution_count": 24,
   "metadata": {},
   "outputs": [
    {
     "data": {
      "text/plain": [
       "RandomForestClassifier(bootstrap=True, class_weight=None, criterion='gini',\n",
       "            max_depth=None, max_features='auto', max_leaf_nodes=None,\n",
       "            min_impurity_decrease=0.0, min_impurity_split=None,\n",
       "            min_samples_leaf=1, min_samples_split=2,\n",
       "            min_weight_fraction_leaf=0.0, n_estimators=10, n_jobs=1,\n",
       "            oob_score=False, random_state=None, verbose=0,\n",
       "            warm_start=False)"
      ]
     },
     "execution_count": 24,
     "metadata": {},
     "output_type": "execute_result"
    }
   ],
   "source": [
    "from sklearn.ensemble import RandomForestClassifier\n",
    "cl = RandomForestClassifier() \n",
    "cl.fit(X_train, y_train) # Fit to the training data"
   ]
  },
  {
   "cell_type": "markdown",
   "metadata": {},
   "source": [
    "Get the accuracy score for the training data."
   ]
  },
  {
   "cell_type": "code",
   "execution_count": 25,
   "metadata": {},
   "outputs": [
    {
     "data": {
      "text/plain": [
       "0.99110715873721655"
      ]
     },
     "execution_count": 25,
     "metadata": {},
     "output_type": "execute_result"
    }
   ],
   "source": [
    "from sklearn.metrics import accuracy_score\n",
    "accuracy_score(y_train, cl.predict(X_train))"
   ]
  },
  {
   "cell_type": "markdown",
   "metadata": {},
   "source": [
    "Now perform cross-validation"
   ]
  },
  {
   "cell_type": "code",
   "execution_count": 26,
   "metadata": {},
   "outputs": [
    {
     "data": {
      "text/plain": [
       "array([ 0.96444444,  0.96444444,  0.96444444,  0.96444444,  0.96444444,\n",
       "        0.96444444,  0.96444444,  0.96444444,  0.96659243,  0.96436526])"
      ]
     },
     "execution_count": 26,
     "metadata": {},
     "output_type": "execute_result"
    }
   ],
   "source": [
    "scoreCV=cross_val_score(cl,X_train,y_train,cv=10,scoring='accuracy') # Cross validate.\n",
    "\n",
    "scoreCV"
   ]
  },
  {
   "cell_type": "markdown",
   "metadata": {},
   "source": [
    "The model seems to be over-fitting. Also check the classification performance for the test data"
   ]
  },
  {
   "cell_type": "code",
   "execution_count": 29,
   "metadata": {},
   "outputs": [
    {
     "name": "stdout",
     "output_type": "stream",
     "text": [
      "             precision    recall  f1-score   support\n",
      "\n",
      "          0       0.96      1.00      0.98      1078\n",
      "          1       0.00      0.00      0.00        27\n",
      "          2       0.00      0.00      0.00        20\n",
      "\n",
      "avg / total       0.92      0.96      0.94      1125\n",
      "\n"
     ]
    },
    {
     "name": "stderr",
     "output_type": "stream",
     "text": [
      "/Users/nicholashedger/anaconda2/envs/env/lib/python2.7/site-packages/sklearn/metrics/classification.py:1135: UndefinedMetricWarning: Precision and F-score are ill-defined and being set to 0.0 in labels with no predicted samples.\n",
      "  'precision', 'predicted', average, warn_for)\n"
     ]
    }
   ],
   "source": [
    "from sklearn.metrics import classification_report # Show performance at classifying the test data\n",
    "print(classification_report(y_test, cl.predict(X_test)))"
   ]
  },
  {
   "cell_type": "markdown",
   "metadata": {},
   "source": [
    "Take a look at the features that ended up being the most important for the random forest classifier"
   ]
  },
  {
   "cell_type": "code",
   "execution_count": null,
   "metadata": {},
   "outputs": [],
   "source": [
    "attributes=list(features_filtered_direct)\n",
    "\n",
    "sorted(zip(cl.feature_importances_,attributes),reverse=True)\n"
   ]
  },
  {
   "cell_type": "markdown",
   "metadata": {},
   "source": [
    "Plot the most important feature"
   ]
  },
  {
   "cell_type": "code",
   "execution_count": null,
   "metadata": {},
   "outputs": [],
   "source": [
    "SHOWFEATURE('X__variance')"
   ]
  },
  {
   "cell_type": "markdown",
   "metadata": {},
   "source": [
    "Since we were over-fitting create a new feature matrix using the top k features."
   ]
  },
  {
   "cell_type": "code",
   "execution_count": null,
   "metadata": {
    "collapsed": true
   },
   "outputs": [],
   "source": [
    "def indices_of_top_k(arr, k):\n",
    "    return np.sort(np.argpartition(np.array(arr), -k)[-k:])\n",
    "\n",
    "\n",
    "top_k=indices_of_top_k(cl.feature_importances_,20)\n",
    "\n",
    "toplabels=np.array(attributes)[top_k]\n",
    "\n",
    "topkmat=np.array(scaled)[:,top_k]\n",
    "\n",
    "\n",
    "X_train, X_test, y_train, y_test = train_test_split(topkmat, LABELSPREP, test_size=.2)\n",
    "\n",
    "from sklearn.ensemble import RandomForestClassifier\n",
    "\n",
    "cl2 = RandomForestClassifier()\n",
    "cl2.fit(X_train, y_train)\n",
    "\n",
    "scoreCV2=cross_val_score(cl2,X_train,y_train,cv=10,scoring='accuracy')\n"
   ]
  },
  {
   "cell_type": "code",
   "execution_count": null,
   "metadata": {},
   "outputs": [],
   "source": [
    "scoreCV2"
   ]
  },
  {
   "cell_type": "markdown",
   "metadata": {},
   "source": [
    "Perform a full grid search of hyper-parameters"
   ]
  },
  {
   "cell_type": "code",
   "execution_count": null,
   "metadata": {},
   "outputs": [],
   "source": [
    "param_grid = [\n",
    "    # try 12 (3×4) combinations of hyperparameters\n",
    "    {'n_estimators': [3, 10, 15, 30], 'max_features': [5, 10, 20],'max_depth': [10,15,20],'min_samples_leaf': [15,20,30],'warm_start':[True,False]}]\n",
    "\n",
    "\n",
    "from sklearn.model_selection import GridSearchCV\n",
    "grid_search = GridSearchCV(cl2, param_grid, cv=5,scoring='accuracy')\n",
    "\n",
    "grid_search.fit(X_train, y_train)\n",
    "\n",
    "\n",
    "cvres = grid_search.cv_results_\n",
    "for mean_score, params in zip(cvres[\"mean_test_score\"], cvres[\"params\"]):\n",
    "    print(mean_score, params)\n"
   ]
  },
  {
   "cell_type": "code",
   "execution_count": null,
   "metadata": {},
   "outputs": [],
   "source": [
    "grid_search.best_estimator_"
   ]
  },
  {
   "cell_type": "code",
   "execution_count": null,
   "metadata": {},
   "outputs": [],
   "source": [
    "print(classification_report(y_test, grid_search.best_estimator_.predict(X_test)))"
   ]
  },
  {
   "cell_type": "code",
   "execution_count": null,
   "metadata": {},
   "outputs": [],
   "source": [
    "scaledwithlabs=np.concatenate((topkmat,np.array(pd.DataFrame(LABELS))),axis=1)\n",
    "scaledint=scaledwithlabs[np.where(scaledwithlabs[:,-1] == 1)]\n",
    "scaledsc=scaledwithlabs[np.where(scaledwithlabs[:,-1] == 2)]\n",
    "from matplotlib import cm, colors\n",
    "fig, ax = plt.subplots(figsize=(20, 20))\n",
    "plt.subplot(1, 2, 1)\n",
    "plt.imshow(scaledint[:,0:-1],cmap='afmhot',vmin=topkmat.min(), vmax=topkmat.max(),extent=[0, 1, 0, 3])\n",
    "plt.title(\"Intact feature matrix\")\n",
    "coords=np.linspace(start=0, stop=0.975, num=topkmat.shape[1])\n",
    "for i in range(topkmat.shape[1]):\n",
    "    plt.text(coords[i],-0.05,toplabels[i],rotation=90)\n",
    "plt.axis('off')\n",
    "plt.grid(which='minor', axis='y', linewidth=10)\n",
    "plt.subplot(1, 2, 2)\n",
    "plt.imshow(scaledsc[:,0:-1],cmap='afmhot',vmin=topkmat.min(), vmax=topkmat.max(),extent=[0, 1, 0, 3])\n",
    "plt.title(\"Scrambled feature matrix\")\n",
    "plt.axis('off')\n",
    "for i in range(topkmat.shape[1]):\n",
    "    plt.text(coords[i],-0.05,toplabels[i],rotation=90)\n",
    "    "
   ]
  },
  {
   "cell_type": "code",
   "execution_count": null,
   "metadata": {},
   "outputs": [],
   "source": [
    "def featureplot(FRAME,LABELS,FEATURE):\n",
    "    feature=np.column_stack((np.array(FRAME[FEATURE]),np.squeeze(np.array(pd.DataFrame(LABELS)))))\n",
    "    intact=feature[np.where(feature[:,-1] == 1)]\n",
    "    scrambled=feature[np.where(feature[:,-1] == 2)]\n",
    "    plt.subplot(1, 2, 1)\n",
    "    plt.boxplot(intact[:,0])\n",
    "    ax1=plt.gca()\n",
    "    ax1.set_ylim(ymin=feature[:,-2].min(), ymax=feature[:,-2].max())\n",
    "    plt.subplot(1, 2, 2)\n",
    "    plt.boxplot(scrambled[:,0])\n",
    "    ax2=plt.gca()\n",
    "    ax2.set_ylim(ymin=feature[:,-2].min(), ymax=feature[:,-2].max())"
   ]
  },
  {
   "cell_type": "code",
   "execution_count": null,
   "metadata": {},
   "outputs": [],
   "source": [
    "\n",
    "featureplot(features_filtered_direct,LABELS,'X__cwt_coefficients__widths_(2, 5, 10, 20)__coeff_1__w_20')"
   ]
  },
  {
   "cell_type": "code",
   "execution_count": null,
   "metadata": {},
   "outputs": [],
   "source": [
    "plt.show()"
   ]
  },
  {
   "cell_type": "code",
   "execution_count": null,
   "metadata": {},
   "outputs": [],
   "source": [
    "data.shape"
   ]
  },
  {
   "cell_type": "code",
   "execution_count": null,
   "metadata": {
    "collapsed": true
   },
   "outputs": [],
   "source": [
    "feature='X__hj'"
   ]
  },
  {
   "cell_type": "code",
   "execution_count": null,
   "metadata": {},
   "outputs": [],
   "source": [
    "feature[0]"
   ]
  },
  {
   "cell_type": "code",
   "execution_count": null,
   "metadata": {
    "collapsed": true
   },
   "outputs": [],
   "source": []
  }
 ],
 "metadata": {
  "kernelspec": {
   "display_name": "Python 2",
   "language": "python",
   "name": "python2"
  },
  "language_info": {
   "codemirror_mode": {
    "name": "ipython",
    "version": 2
   },
   "file_extension": ".py",
   "mimetype": "text/x-python",
   "name": "python",
   "nbconvert_exporter": "python",
   "pygments_lexer": "ipython2",
   "version": "2.7.14"
  }
 },
 "nbformat": 4,
 "nbformat_minor": 2
}
