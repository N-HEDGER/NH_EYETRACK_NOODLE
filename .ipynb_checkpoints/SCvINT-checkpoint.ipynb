{
 "cells": [
  {
   "cell_type": "markdown",
   "metadata": {},
   "source": [
    "# Time Series Classification"
   ]
  },
  {
   "cell_type": "markdown",
   "metadata": {},
   "source": [
    "## Import modules and set path."
   ]
  },
  {
   "cell_type": "code",
   "execution_count": 1,
   "metadata": {
    "collapsed": true
   },
   "outputs": [],
   "source": [
    "import pandas as pd\n",
    "import matplotlib.pyplot as plt\n",
    "import os\n",
    "import numpy as np\n",
    "import matplotlib\n",
    "import matplotlib.pyplot as plt\n",
    "%matplotlib inline\n",
    "\n",
    "\n",
    "PATH='/Users/nicholashedger/Documents'"
   ]
  },
  {
   "cell_type": "markdown",
   "metadata": {},
   "source": [
    "## Load in files."
   ]
  },
  {
   "cell_type": "markdown",
   "metadata": {},
   "source": [
    "Here I load the timeseries and labels into a pandas dataframe"
   ]
  },
  {
   "cell_type": "code",
   "execution_count": 2,
   "metadata": {
    "collapsed": true
   },
   "outputs": [],
   "source": [
    "def load_data(PATH,FILE):\n",
    "\tcsvpath=os.path.join(PATH,FILE)\n",
    "\treturn pd.read_csv(csvpath)\n",
    "\n",
    "\n",
    "TIMESERIES=load_data(PATH,'timeseries.csv') # The full timeseries data.\n",
    "SCRAMLAB=load_data(PATH,'sclabels.csv') # The labels corresponding to whether the trial was scrambled or not.\n",
    "SIDETIMESERIES=load_data(PATH,'timeseriesside.csv') # The timeseries for intact images only\n",
    "SIDELAB=load_data(PATH,'sidelabels.csv') # The labels corresponding to the location of the social image."
   ]
  },
  {
   "cell_type": "markdown",
   "metadata": {},
   "source": [
    "## Review data structure"
   ]
  },
  {
   "cell_type": "code",
   "execution_count": 3,
   "metadata": {},
   "outputs": [
    {
     "data": {
      "text/plain": [
       "(3078000, 6)"
      ]
     },
     "execution_count": 3,
     "metadata": {},
     "output_type": "execute_result"
    }
   ],
   "source": [
    "TIMESERIES.shape"
   ]
  },
  {
   "cell_type": "code",
   "execution_count": 4,
   "metadata": {},
   "outputs": [
    {
     "data": {
      "text/plain": [
       "(6156, 2)"
      ]
     },
     "execution_count": 4,
     "metadata": {},
     "output_type": "execute_result"
    }
   ],
   "source": [
    "SCRAMLAB.shape"
   ]
  },
  {
   "cell_type": "code",
   "execution_count": 5,
   "metadata": {},
   "outputs": [
    {
     "data": {
      "text/plain": [
       "(3080, 2)"
      ]
     },
     "execution_count": 5,
     "metadata": {},
     "output_type": "execute_result"
    }
   ],
   "source": [
    "SIDELAB.shape"
   ]
  },
  {
   "cell_type": "markdown",
   "metadata": {},
   "source": [
    "The timeseries data has the following structure: There is the id (timeseries number) a timestamp and a corresponding X and Y value for each timestamp."
   ]
  },
  {
   "cell_type": "code",
   "execution_count": 6,
   "metadata": {},
   "outputs": [
    {
     "data": {
      "text/html": [
       "<div>\n",
       "<style>\n",
       "    .dataframe thead tr:only-child th {\n",
       "        text-align: right;\n",
       "    }\n",
       "\n",
       "    .dataframe thead th {\n",
       "        text-align: left;\n",
       "    }\n",
       "\n",
       "    .dataframe tbody tr th {\n",
       "        vertical-align: top;\n",
       "    }\n",
       "</style>\n",
       "<table border=\"1\" class=\"dataframe\">\n",
       "  <thead>\n",
       "    <tr style=\"text-align: right;\">\n",
       "      <th></th>\n",
       "      <th>Unnamed: 0</th>\n",
       "      <th>id</th>\n",
       "      <th>time</th>\n",
       "      <th>X</th>\n",
       "      <th>Y</th>\n",
       "      <th>ps</th>\n",
       "    </tr>\n",
       "  </thead>\n",
       "  <tbody>\n",
       "    <tr>\n",
       "      <th>0</th>\n",
       "      <td>1</td>\n",
       "      <td>1</td>\n",
       "      <td>0.00000</td>\n",
       "      <td>762.3</td>\n",
       "      <td>639.5</td>\n",
       "      <td>1</td>\n",
       "    </tr>\n",
       "    <tr>\n",
       "      <th>1</th>\n",
       "      <td>2</td>\n",
       "      <td>1</td>\n",
       "      <td>10.02004</td>\n",
       "      <td>762.3</td>\n",
       "      <td>639.5</td>\n",
       "      <td>1</td>\n",
       "    </tr>\n",
       "    <tr>\n",
       "      <th>2</th>\n",
       "      <td>3</td>\n",
       "      <td>1</td>\n",
       "      <td>20.04008</td>\n",
       "      <td>762.3</td>\n",
       "      <td>639.5</td>\n",
       "      <td>1</td>\n",
       "    </tr>\n",
       "    <tr>\n",
       "      <th>3</th>\n",
       "      <td>4</td>\n",
       "      <td>1</td>\n",
       "      <td>30.06012</td>\n",
       "      <td>762.3</td>\n",
       "      <td>639.5</td>\n",
       "      <td>1</td>\n",
       "    </tr>\n",
       "    <tr>\n",
       "      <th>4</th>\n",
       "      <td>5</td>\n",
       "      <td>1</td>\n",
       "      <td>40.08016</td>\n",
       "      <td>762.3</td>\n",
       "      <td>639.5</td>\n",
       "      <td>1</td>\n",
       "    </tr>\n",
       "  </tbody>\n",
       "</table>\n",
       "</div>"
      ],
      "text/plain": [
       "   Unnamed: 0  id      time      X      Y  ps\n",
       "0           1   1   0.00000  762.3  639.5   1\n",
       "1           2   1  10.02004  762.3  639.5   1\n",
       "2           3   1  20.04008  762.3  639.5   1\n",
       "3           4   1  30.06012  762.3  639.5   1\n",
       "4           5   1  40.08016  762.3  639.5   1"
      ]
     },
     "execution_count": 6,
     "metadata": {},
     "output_type": "execute_result"
    }
   ],
   "source": [
    "TIMESERIES.head()"
   ]
  },
  {
   "cell_type": "markdown",
   "metadata": {},
   "source": [
    "There are 6156 timeseries, each of which has a correspondig label in the SCRAMLAB dataframe."
   ]
  },
  {
   "cell_type": "code",
   "execution_count": 11,
   "metadata": {},
   "outputs": [
    {
     "data": {
      "text/plain": [
       "6156"
      ]
     },
     "execution_count": 11,
     "metadata": {},
     "output_type": "execute_result"
    }
   ],
   "source": [
    "len(np.unique(TIMESERIES[\"id\"]))"
   ]
  },
  {
   "cell_type": "code",
   "execution_count": 8,
   "metadata": {},
   "outputs": [
    {
     "data": {
      "text/html": [
       "<div>\n",
       "<style>\n",
       "    .dataframe thead tr:only-child th {\n",
       "        text-align: right;\n",
       "    }\n",
       "\n",
       "    .dataframe thead th {\n",
       "        text-align: left;\n",
       "    }\n",
       "\n",
       "    .dataframe tbody tr th {\n",
       "        vertical-align: top;\n",
       "    }\n",
       "</style>\n",
       "<table border=\"1\" class=\"dataframe\">\n",
       "  <thead>\n",
       "    <tr style=\"text-align: right;\">\n",
       "      <th></th>\n",
       "      <th>Unnamed: 0</th>\n",
       "      <th>sc</th>\n",
       "    </tr>\n",
       "  </thead>\n",
       "  <tbody>\n",
       "    <tr>\n",
       "      <th>0</th>\n",
       "      <td>1</td>\n",
       "      <td>1</td>\n",
       "    </tr>\n",
       "    <tr>\n",
       "      <th>1</th>\n",
       "      <td>2</td>\n",
       "      <td>1</td>\n",
       "    </tr>\n",
       "    <tr>\n",
       "      <th>2</th>\n",
       "      <td>3</td>\n",
       "      <td>1</td>\n",
       "    </tr>\n",
       "    <tr>\n",
       "      <th>3</th>\n",
       "      <td>4</td>\n",
       "      <td>1</td>\n",
       "    </tr>\n",
       "    <tr>\n",
       "      <th>4</th>\n",
       "      <td>5</td>\n",
       "      <td>1</td>\n",
       "    </tr>\n",
       "  </tbody>\n",
       "</table>\n",
       "</div>"
      ],
      "text/plain": [
       "   Unnamed: 0  sc\n",
       "0           1   1\n",
       "1           2   1\n",
       "2           3   1\n",
       "3           4   1\n",
       "4           5   1"
      ]
     },
     "execution_count": 8,
     "metadata": {},
     "output_type": "execute_result"
    }
   ],
   "source": [
    "SCRAMLAB.head()"
   ]
  },
  {
   "cell_type": "markdown",
   "metadata": {},
   "source": [
    "SCRAMLAB and SIDELAB just code the labels to be classified (1 per timeseries). Plot an example timeseries instance."
   ]
  },
  {
   "cell_type": "code",
   "execution_count": 231,
   "metadata": {},
   "outputs": [],
   "source": [
    "# Plot a timeseries and add some bells and whistles. Plot where the stimuli are and a title indicating whether\n",
    "# it was a scrambled or intact trial.\n",
    "SCRAMLAB=SCRAMLAB.drop('Unnamed: 0',1)\n",
    "def tsplot(FRAME,id):\n",
    "    fig1, ax =plt.subplots(1)\n",
    "    instance=FRAME[(FRAME[\"id\"]==id)]\n",
    "    plt.plot(instance['X'],instance['Y'])\n",
    "    plt.axis([100,1500,300,900])\n",
    "    rect=patches.Rectangle((168,378),544,444,facecolor='none',edgecolor='r') # Plot the grid area\n",
    "    rect2=patches.Rectangle((888,378),544,444,facecolor='none',edgecolor='r')\n",
    "    ax.add_patch(rect)\n",
    "    ax.add_patch(rect2)\n",
    "    num=SCRAMLAB.iloc[id-1,0] # Reference the timeseries with the label. \n",
    "    lab=\"Scram = %d\" % (num)\n",
    "    plt.title(lab)\n",
    "    plt.show()"
   ]
  },
  {
   "cell_type": "code",
   "execution_count": 410,
   "metadata": {},
   "outputs": [
    {
     "data": {
      "image/png": "[encoded data removed]",
      "text/plain": [
       "<matplotlib.figure.Figure at 0xa10e88210>"
      ]
     },
     "metadata": {},
     "output_type": "display_data"
    }
   ],
   "source": [
    "x=tsplot(TIMESERIES,5094) # Plot the Y coordinate for the first timeseries.\n"
   ]
  },
  {
   "cell_type": "code",
   "execution_count": 168,
   "metadata": {
    "collapsed": true
   },
   "outputs": [],
   "source": [
    "# Drop columns not required.\n",
    "TIMESERIES=TIMESERIES.drop('Unnamed: 0',1)\n",
    "SIDETIMESERIES=SIDETIMESERIES.drop('Unnamed: 0',1)\n",
    "SCRAMLAB=SCRAMLAB.drop('Unnamed: 0',1)\n",
    "SIDELAB=SIDELAB.drop('Unnamed: 0',1)\n",
    "TIMESERIES=TIMESERIES.drop('ps',1)\n",
    "SIDETIMESERIES=SIDETIMESERIES.drop('ps',1)"
   ]
  },
  {
   "cell_type": "markdown",
   "metadata": {},
   "source": [
    "## Classifcation of intact versus scrambled images"
   ]
  },
  {
   "cell_type": "markdown",
   "metadata": {
    "collapsed": true
   },
   "source": [
    "Now we get the labels into a 1D format."
   ]
  },
  {
   "cell_type": "code",
   "execution_count": 12,
   "metadata": {
    "collapsed": true
   },
   "outputs": [],
   "source": [
    "# Re-structure labels into a 1D numpy array\n",
    "LABELS=SCRAMLAB\n",
    "LABELSPREP=pd.DataFrame.as_matrix(LABELS)\n",
    "LABELSPREP=np.squeeze(LABELSPREP)"
   ]
  },
  {
   "cell_type": "code",
   "execution_count": 13,
   "metadata": {},
   "outputs": [
    {
     "data": {
      "text/plain": [
       "(6156,)"
      ]
     },
     "execution_count": 13,
     "metadata": {},
     "output_type": "execute_result"
    }
   ],
   "source": [
    "LABELSPREP.shape"
   ]
  },
  {
   "cell_type": "markdown",
   "metadata": {},
   "source": [
    "Now the data are all in the correct format, import the tsfresh module and ask it to engineer some features. The  [following features are calculated](http://tsfresh.readthedocs.io/en/latest/text/list_of_features.html)"
   ]
  },
  {
   "cell_type": "code",
   "execution_count": 14,
   "metadata": {},
   "outputs": [
    {
     "name": "stderr",
     "output_type": "stream",
     "text": [
      "/Users/nicholashedger/anaconda2/envs/env/lib/python2.7/site-packages/statsmodels/compat/pandas.py:56: FutureWarning: The pandas.core.datetools module is deprecated and will be removed in a future version. Please use the pandas.tseries module instead.\n",
      "  from pandas.core import datetools\n"
     ]
    }
   ],
   "source": [
    "from tsfresh import extract_relevant_features"
   ]
  },
  {
   "cell_type": "code",
   "execution_count": 15,
   "metadata": {},
   "outputs": [
    {
     "name": "stderr",
     "output_type": "stream",
     "text": [
      "Feature Extraction: 10it [1:46:46, 640.69s/it]                       \n",
      "WARNING:tsfresh.utilities.dataframe_functions:The columns ['X__friedrich_coefficients__m_3__r_30__coeff_0'\n",
      " 'X__friedrich_coefficients__m_3__r_30__coeff_1'\n",
      " 'X__friedrich_coefficients__m_3__r_30__coeff_2'\n",
      " 'X__friedrich_coefficients__m_3__r_30__coeff_3'\n",
      " 'X__max_langevin_fixed_point__m_3__r_30'\n",
      " 'Y__friedrich_coefficients__m_3__r_30__coeff_0'\n",
      " 'Y__friedrich_coefficients__m_3__r_30__coeff_1'\n",
      " 'Y__friedrich_coefficients__m_3__r_30__coeff_2'\n",
      " 'Y__friedrich_coefficients__m_3__r_30__coeff_3'\n",
      " 'Y__max_langevin_fixed_point__m_3__r_30'] did not have any finite values. Filling with zeros.\n",
      "WARNING:tsfresh.feature_selection.relevance:Infered classification as machine learning task\n",
      "WARNING:tsfresh.feature_selection.relevance:[test_feature_significance] Feature X__change_quantiles__f_agg_\"mean\"__isabs_False__qh_0.2__ql_0.2 is constant\n",
      "WARNING:tsfresh.feature_selection.relevance:[test_feature_significance] Feature X__change_quantiles__f_agg_\"mean\"__isabs_False__qh_0.4__ql_0.6 is constant\n",
      "WARNING:tsfresh.feature_selection.relevance:[test_feature_significance] Feature X__change_quantiles__f_agg_\"mean\"__isabs_False__qh_0.2__ql_0.4 is constant\n",
      "WARNING:tsfresh.feature_selection.relevance:[test_feature_significance] Feature X__change_quantiles__f_agg_\"mean\"__isabs_False__qh_0.2__ql_0.6 is constant\n",
      "WARNING:tsfresh.feature_selection.relevance:[test_feature_significance] Feature X__change_quantiles__f_agg_\"mean\"__isabs_False__qh_0.2__ql_0.8 is constant\n",
      "WARNING:tsfresh.feature_selection.relevance:[test_feature_significance] Feature X__change_quantiles__f_agg_\"mean\"__isabs_False__qh_0.4__ql_0.4 is constant\n",
      "WARNING:tsfresh.feature_selection.relevance:[test_feature_significance] Feature X__change_quantiles__f_agg_\"mean\"__isabs_False__qh_0.4__ql_0.8 is constant\n",
      "WARNING:tsfresh.feature_selection.relevance:[test_feature_significance] Feature X__change_quantiles__f_agg_\"mean\"__isabs_False__qh_0.6__ql_0.6 is constant\n",
      "WARNING:tsfresh.feature_selection.relevance:[test_feature_significance] Feature X__change_quantiles__f_agg_\"mean\"__isabs_False__qh_0.6__ql_0.8 is constant\n",
      "WARNING:tsfresh.feature_selection.relevance:[test_feature_significance] Feature X__change_quantiles__f_agg_\"mean\"__isabs_False__qh_0.8__ql_0.8 is constant\n",
      "WARNING:tsfresh.feature_selection.relevance:[test_feature_significance] Feature X__change_quantiles__f_agg_\"mean\"__isabs_True__qh_0.2__ql_0.2 is constant\n",
      "WARNING:tsfresh.feature_selection.relevance:[test_feature_significance] Feature X__change_quantiles__f_agg_\"mean\"__isabs_True__qh_0.2__ql_0.4 is constant\n",
      "WARNING:tsfresh.feature_selection.relevance:[test_feature_significance] Feature X__change_quantiles__f_agg_\"mean\"__isabs_True__qh_0.2__ql_0.6 is constant\n",
      "WARNING:tsfresh.feature_selection.relevance:[test_feature_significance] Feature X__fft_coefficient__coeff_0__attr_\"angle\" is constant\n",
      "WARNING:tsfresh.feature_selection.relevance:[test_feature_significance] Feature X__change_quantiles__f_agg_\"mean\"__isabs_True__qh_0.2__ql_0.8 is constant\n",
      "WARNING:tsfresh.feature_selection.relevance:[test_feature_significance] Feature X__fft_coefficient__coeff_0__attr_\"imag\" is constant\n",
      "WARNING:tsfresh.feature_selection.relevance:[test_feature_significance] Feature X__change_quantiles__f_agg_\"mean\"__isabs_True__qh_0.4__ql_0.4 is constant\n",
      "WARNING:tsfresh.feature_selection.relevance:[test_feature_significance] Feature X__change_quantiles__f_agg_\"mean\"__isabs_True__qh_0.4__ql_0.6 is constant\n",
      "WARNING:tsfresh.feature_selection.relevance:[test_feature_significance] Feature X__change_quantiles__f_agg_\"mean\"__isabs_True__qh_0.4__ql_0.8 is constant\n",
      "WARNING:tsfresh.feature_selection.relevance:[test_feature_significance] Feature X__change_quantiles__f_agg_\"mean\"__isabs_True__qh_0.6__ql_0.6 is constant\n",
      "WARNING:tsfresh.feature_selection.relevance:[test_feature_significance] Feature X__change_quantiles__f_agg_\"mean\"__isabs_True__qh_0.6__ql_0.8 is constant\n",
      "WARNING:tsfresh.feature_selection.relevance:[test_feature_significance] Feature X__change_quantiles__f_agg_\"mean\"__isabs_True__qh_0.8__ql_0.8 is constant\n",
      "WARNING:tsfresh.feature_selection.relevance:[test_feature_significance] Feature X__change_quantiles__f_agg_\"var\"__isabs_False__qh_0.2__ql_0.2 is constant\n",
      "WARNING:tsfresh.feature_selection.relevance:[test_feature_significance] Feature X__change_quantiles__f_agg_\"var\"__isabs_False__qh_0.2__ql_0.4 is constant\n",
      "WARNING:tsfresh.feature_selection.relevance:[test_feature_significance] Feature X__change_quantiles__f_agg_\"var\"__isabs_False__qh_0.2__ql_0.6 is constant\n",
      "WARNING:tsfresh.feature_selection.relevance:[test_feature_significance] Feature X__change_quantiles__f_agg_\"var\"__isabs_False__qh_0.2__ql_0.8 is constant\n",
      "WARNING:tsfresh.feature_selection.relevance:[test_feature_significance] Feature X__change_quantiles__f_agg_\"var\"__isabs_False__qh_0.4__ql_0.4 is constant\n",
      "WARNING:tsfresh.feature_selection.relevance:[test_feature_significance] Feature X__change_quantiles__f_agg_\"var\"__isabs_False__qh_0.4__ql_0.6 is constant\n",
      "WARNING:tsfresh.feature_selection.relevance:[test_feature_significance] Feature X__change_quantiles__f_agg_\"var\"__isabs_False__qh_0.4__ql_0.8 is constant\n",
      "WARNING:tsfresh.feature_selection.relevance:[test_feature_significance] Feature X__change_quantiles__f_agg_\"var\"__isabs_False__qh_0.6__ql_0.6 is constant\n",
      "WARNING:tsfresh.feature_selection.relevance:[test_feature_significance] Feature X__change_quantiles__f_agg_\"var\"__isabs_False__qh_0.6__ql_0.8 is constant\n",
      "WARNING:tsfresh.feature_selection.relevance:[test_feature_significance] Feature X__change_quantiles__f_agg_\"var\"__isabs_False__qh_0.8__ql_0.8 is constant\n",
      "WARNING:tsfresh.feature_selection.relevance:[test_feature_significance] Feature X__change_quantiles__f_agg_\"var\"__isabs_True__qh_0.2__ql_0.2 is constant\n",
      "WARNING:tsfresh.feature_selection.relevance:[test_feature_significance] Feature X__change_quantiles__f_agg_\"var\"__isabs_True__qh_0.2__ql_0.4 is constant\n",
      "WARNING:tsfresh.feature_selection.relevance:[test_feature_significance] Feature X__change_quantiles__f_agg_\"var\"__isabs_True__qh_0.2__ql_0.6 is constant\n",
      "WARNING:tsfresh.feature_selection.relevance:[test_feature_significance] Feature X__change_quantiles__f_agg_\"var\"__isabs_True__qh_0.2__ql_0.8 is constant\n",
      "WARNING:tsfresh.feature_selection.relevance:[test_feature_significance] Feature X__change_quantiles__f_agg_\"var\"__isabs_True__qh_0.4__ql_0.4 is constant\n",
      "WARNING:tsfresh.feature_selection.relevance:[test_feature_significance] Feature X__change_quantiles__f_agg_\"var\"__isabs_True__qh_0.4__ql_0.6 is constant\n",
      "WARNING:tsfresh.feature_selection.relevance:[test_feature_significance] Feature X__change_quantiles__f_agg_\"var\"__isabs_True__qh_0.4__ql_0.8 is constant\n",
      "WARNING:tsfresh.feature_selection.relevance:[test_feature_significance] Feature X__change_quantiles__f_agg_\"var\"__isabs_True__qh_0.6__ql_0.6 is constant\n",
      "WARNING:tsfresh.feature_selection.relevance:[test_feature_significance] Feature X__change_quantiles__f_agg_\"var\"__isabs_True__qh_0.6__ql_0.8 is constant\n",
      "WARNING:tsfresh.feature_selection.relevance:[test_feature_significance] Feature X__change_quantiles__f_agg_\"var\"__isabs_True__qh_0.8__ql_0.8 is constant\n",
      "WARNING:tsfresh.feature_selection.relevance:[test_feature_significance] Feature X__friedrich_coefficients__m_3__r_30__coeff_0 is constant\n",
      "WARNING:tsfresh.feature_selection.relevance:[test_feature_significance] Feature X__friedrich_coefficients__m_3__r_30__coeff_1 is constant\n",
      "WARNING:tsfresh.feature_selection.relevance:[test_feature_significance] Feature X__friedrich_coefficients__m_3__r_30__coeff_2 is constant\n",
      "WARNING:tsfresh.feature_selection.relevance:[test_feature_significance] Feature X__friedrich_coefficients__m_3__r_30__coeff_3 is constant\n",
      "WARNING:tsfresh.feature_selection.relevance:[test_feature_significance] Feature X__has_duplicate is constant\n",
      "WARNING:tsfresh.feature_selection.relevance:[test_feature_significance] Feature X__large_standard_deviation__r_0.05 is constant\n",
      "WARNING:tsfresh.feature_selection.relevance:[test_feature_significance] Feature X__large_standard_deviation__r_0.1 is constant\n",
      "WARNING:tsfresh.feature_selection.relevance:[test_feature_significance] Feature X__large_standard_deviation__r_0.5 is constant\n"
     ]
    },
    {
     "name": "stderr",
     "output_type": "stream",
     "text": [
      "WARNING:tsfresh.feature_selection.relevance:[test_feature_significance] Feature X__large_standard_deviation__r_0.55 is constant\n",
      "WARNING:tsfresh.feature_selection.relevance:[test_feature_significance] Feature X__large_standard_deviation__r_0.6 is constant\n",
      "WARNING:tsfresh.feature_selection.relevance:[test_feature_significance] Feature X__large_standard_deviation__r_0.65 is constant\n",
      "WARNING:tsfresh.feature_selection.relevance:[test_feature_significance] Feature X__large_standard_deviation__r_0.7 is constant\n",
      "WARNING:tsfresh.feature_selection.relevance:[test_feature_significance] Feature X__large_standard_deviation__r_0.75 is constant\n",
      "WARNING:tsfresh.feature_selection.relevance:[test_feature_significance] Feature X__large_standard_deviation__r_0.8 is constant\n",
      "WARNING:tsfresh.feature_selection.relevance:[test_feature_significance] Feature X__large_standard_deviation__r_0.85 is constant\n",
      "WARNING:tsfresh.feature_selection.relevance:[test_feature_significance] Feature X__large_standard_deviation__r_0.9 is constant\n",
      "WARNING:tsfresh.feature_selection.relevance:[test_feature_significance] Feature X__large_standard_deviation__r_0.95 is constant\n",
      "WARNING:tsfresh.feature_selection.relevance:[test_feature_significance] Feature X__length is constant\n",
      "WARNING:tsfresh.feature_selection.relevance:[test_feature_significance] Feature X__max_langevin_fixed_point__m_3__r_30 is constant\n",
      "WARNING:tsfresh.feature_selection.relevance:[test_feature_significance] Feature X__number_peaks__n_1 is constant\n",
      "WARNING:tsfresh.feature_selection.relevance:[test_feature_significance] Feature X__number_peaks__n_10 is constant\n",
      "WARNING:tsfresh.feature_selection.relevance:[test_feature_significance] Feature X__number_peaks__n_3 is constant\n",
      "WARNING:tsfresh.feature_selection.relevance:[test_feature_significance] Feature X__number_peaks__n_5 is constant\n",
      "WARNING:tsfresh.feature_selection.relevance:[test_feature_significance] Feature X__number_peaks__n_50 is constant\n",
      "WARNING:tsfresh.feature_selection.relevance:[test_feature_significance] Feature X__partial_autocorrelation__lag_0 is constant\n",
      "WARNING:tsfresh.feature_selection.relevance:[test_feature_significance] Feature X__ratio_beyond_r_sigma__r_10 is constant\n",
      "WARNING:tsfresh.feature_selection.relevance:[test_feature_significance] Feature X__symmetry_looking__r_0.0 is constant\n",
      "WARNING:tsfresh.feature_selection.relevance:[test_feature_significance] Feature X__symmetry_looking__r_0.5 is constant\n",
      "WARNING:tsfresh.feature_selection.relevance:[test_feature_significance] Feature Y__change_quantiles__f_agg_\"mean\"__isabs_False__qh_0.2__ql_0.2 is constant\n",
      "WARNING:tsfresh.feature_selection.relevance:[test_feature_significance] Feature X__symmetry_looking__r_0.55 is constant\n",
      "WARNING:tsfresh.feature_selection.relevance:[test_feature_significance] Feature Y__change_quantiles__f_agg_\"mean\"__isabs_False__qh_0.2__ql_0.4 is constant\n",
      "WARNING:tsfresh.feature_selection.relevance:[test_feature_significance] Feature X__symmetry_looking__r_0.6 is constant\n",
      "WARNING:tsfresh.feature_selection.relevance:[test_feature_significance] Feature Y__change_quantiles__f_agg_\"mean\"__isabs_False__qh_0.2__ql_0.6 is constant\n",
      "WARNING:tsfresh.feature_selection.relevance:[test_feature_significance] Feature Y__change_quantiles__f_agg_\"mean\"__isabs_False__qh_0.2__ql_0.8 is constant\n",
      "WARNING:tsfresh.feature_selection.relevance:[test_feature_significance] Feature X__symmetry_looking__r_0.65 is constant\n",
      "WARNING:tsfresh.feature_selection.relevance:[test_feature_significance] Feature Y__change_quantiles__f_agg_\"mean\"__isabs_False__qh_0.4__ql_0.4 is constant\n",
      "WARNING:tsfresh.feature_selection.relevance:[test_feature_significance] Feature Y__change_quantiles__f_agg_\"mean\"__isabs_False__qh_0.4__ql_0.6 is constant\n",
      "WARNING:tsfresh.feature_selection.relevance:[test_feature_significance] Feature X__symmetry_looking__r_0.7 is constant\n",
      "WARNING:tsfresh.feature_selection.relevance:[test_feature_significance] Feature Y__change_quantiles__f_agg_\"mean\"__isabs_False__qh_0.4__ql_0.8 is constant\n",
      "WARNING:tsfresh.feature_selection.relevance:[test_feature_significance] Feature X__symmetry_looking__r_0.75 is constant\n",
      "WARNING:tsfresh.feature_selection.relevance:[test_feature_significance] Feature X__symmetry_looking__r_0.8 is constant\n",
      "WARNING:tsfresh.feature_selection.relevance:[test_feature_significance] Feature X__symmetry_looking__r_0.85 is constant\n",
      "WARNING:tsfresh.feature_selection.relevance:[test_feature_significance] Feature Y__change_quantiles__f_agg_\"mean\"__isabs_False__qh_0.6__ql_0.6 is constant\n",
      "WARNING:tsfresh.feature_selection.relevance:[test_feature_significance] Feature X__symmetry_looking__r_0.9 is constant\n",
      "WARNING:tsfresh.feature_selection.relevance:[test_feature_significance] Feature X__symmetry_looking__r_0.95 is constant\n",
      "WARNING:tsfresh.feature_selection.relevance:[test_feature_significance] Feature Y__change_quantiles__f_agg_\"mean\"__isabs_False__qh_0.6__ql_0.8 is constant\n",
      "WARNING:tsfresh.feature_selection.relevance:[test_feature_significance] Feature X__value_count__value_-inf is constant\n",
      "WARNING:tsfresh.feature_selection.relevance:[test_feature_significance] Feature Y__change_quantiles__f_agg_\"mean\"__isabs_False__qh_0.8__ql_0.8 is constant\n",
      "WARNING:tsfresh.feature_selection.relevance:[test_feature_significance] Feature X__value_count__value_1 is constant\n",
      "WARNING:tsfresh.feature_selection.relevance:[test_feature_significance] Feature X__value_count__value_inf is constant\n",
      "WARNING:tsfresh.feature_selection.relevance:[test_feature_significance] Feature X__value_count__value_nan is constant\n",
      "WARNING:tsfresh.feature_selection.relevance:[test_feature_significance] Feature Y__change_quantiles__f_agg_\"mean\"__isabs_True__qh_0.2__ql_0.2 is constant\n",
      "WARNING:tsfresh.feature_selection.relevance:[test_feature_significance] Feature X__variance_larger_than_standard_deviation is constant\n",
      "WARNING:tsfresh.feature_selection.relevance:[test_feature_significance] Feature Y__change_quantiles__f_agg_\"mean\"__isabs_True__qh_0.2__ql_0.4 is constant\n",
      "WARNING:tsfresh.feature_selection.relevance:[test_feature_significance] Feature Y__change_quantiles__f_agg_\"mean\"__isabs_True__qh_0.2__ql_0.6 is constant\n",
      "WARNING:tsfresh.feature_selection.relevance:[test_feature_significance] Feature Y__change_quantiles__f_agg_\"mean\"__isabs_True__qh_0.2__ql_0.8 is constant\n",
      "WARNING:tsfresh.feature_selection.relevance:[test_feature_significance] Feature Y__change_quantiles__f_agg_\"mean\"__isabs_True__qh_0.4__ql_0.4 is constant\n",
      "WARNING:tsfresh.feature_selection.relevance:[test_feature_significance] Feature Y__change_quantiles__f_agg_\"mean\"__isabs_True__qh_0.4__ql_0.6 is constant\n",
      "WARNING:tsfresh.feature_selection.relevance:[test_feature_significance] Feature Y__change_quantiles__f_agg_\"mean\"__isabs_True__qh_0.4__ql_0.8 is constant\n",
      "WARNING:tsfresh.feature_selection.relevance:[test_feature_significance] Feature Y__change_quantiles__f_agg_\"mean\"__isabs_True__qh_0.6__ql_0.6 is constant\n",
      "WARNING:tsfresh.feature_selection.relevance:[test_feature_significance] Feature Y__change_quantiles__f_agg_\"mean\"__isabs_True__qh_0.6__ql_0.8 is constant\n",
      "WARNING:tsfresh.feature_selection.relevance:[test_feature_significance] Feature Y__change_quantiles__f_agg_\"mean\"__isabs_True__qh_0.8__ql_0.8 is constant\n",
      "WARNING:tsfresh.feature_selection.relevance:[test_feature_significance] Feature Y__change_quantiles__f_agg_\"var\"__isabs_False__qh_0.2__ql_0.2 is constant\n",
      "WARNING:tsfresh.feature_selection.relevance:[test_feature_significance] Feature Y__change_quantiles__f_agg_\"var\"__isabs_False__qh_0.2__ql_0.8 is constant\n",
      "WARNING:tsfresh.feature_selection.relevance:[test_feature_significance] Feature Y__change_quantiles__f_agg_\"var\"__isabs_False__qh_0.2__ql_0.4 is constant\n",
      "WARNING:tsfresh.feature_selection.relevance:[test_feature_significance] Feature Y__change_quantiles__f_agg_\"var\"__isabs_False__qh_0.2__ql_0.6 is constant\n",
      "WARNING:tsfresh.feature_selection.relevance:[test_feature_significance] Feature Y__change_quantiles__f_agg_\"var\"__isabs_False__qh_0.4__ql_0.4 is constant\n",
      "WARNING:tsfresh.feature_selection.relevance:[test_feature_significance] Feature Y__change_quantiles__f_agg_\"var\"__isabs_False__qh_0.8__ql_0.8 is constant\n",
      "WARNING:tsfresh.feature_selection.relevance:[test_feature_significance] Feature Y__change_quantiles__f_agg_\"var\"__isabs_False__qh_0.4__ql_0.6 is constant\n"
     ]
    },
    {
     "name": "stderr",
     "output_type": "stream",
     "text": [
      "WARNING:tsfresh.feature_selection.relevance:[test_feature_significance] Feature Y__change_quantiles__f_agg_\"var\"__isabs_False__qh_0.4__ql_0.8 is constant\n",
      "WARNING:tsfresh.feature_selection.relevance:[test_feature_significance] Feature Y__change_quantiles__f_agg_\"var\"__isabs_False__qh_0.6__ql_0.6 is constant\n",
      "WARNING:tsfresh.feature_selection.relevance:[test_feature_significance] Feature Y__change_quantiles__f_agg_\"var\"__isabs_False__qh_0.6__ql_0.8 is constant\n",
      "WARNING:tsfresh.feature_selection.relevance:[test_feature_significance] Feature Y__change_quantiles__f_agg_\"var\"__isabs_True__qh_0.2__ql_0.2 is constant\n",
      "WARNING:tsfresh.feature_selection.relevance:[test_feature_significance] Feature Y__change_quantiles__f_agg_\"var\"__isabs_True__qh_0.2__ql_0.4 is constant\n",
      "WARNING:tsfresh.feature_selection.relevance:[test_feature_significance] Feature Y__change_quantiles__f_agg_\"var\"__isabs_True__qh_0.2__ql_0.6 is constant\n",
      "WARNING:tsfresh.feature_selection.relevance:[test_feature_significance] Feature Y__change_quantiles__f_agg_\"var\"__isabs_True__qh_0.2__ql_0.8 is constant\n",
      "WARNING:tsfresh.feature_selection.relevance:[test_feature_significance] Feature Y__change_quantiles__f_agg_\"var\"__isabs_True__qh_0.4__ql_0.4 is constant\n",
      "WARNING:tsfresh.feature_selection.relevance:[test_feature_significance] Feature Y__change_quantiles__f_agg_\"var\"__isabs_True__qh_0.4__ql_0.6 is constant\n",
      "WARNING:tsfresh.feature_selection.relevance:[test_feature_significance] Feature Y__change_quantiles__f_agg_\"var\"__isabs_True__qh_0.4__ql_0.8 is constant\n",
      "WARNING:tsfresh.feature_selection.relevance:[test_feature_significance] Feature Y__change_quantiles__f_agg_\"var\"__isabs_True__qh_0.6__ql_0.6 is constant\n",
      "WARNING:tsfresh.feature_selection.relevance:[test_feature_significance] Feature Y__change_quantiles__f_agg_\"var\"__isabs_True__qh_0.6__ql_0.8 is constant\n",
      "WARNING:tsfresh.feature_selection.relevance:[test_feature_significance] Feature Y__change_quantiles__f_agg_\"var\"__isabs_True__qh_0.8__ql_0.8 is constant\n",
      "WARNING:tsfresh.feature_selection.relevance:[test_feature_significance] Feature Y__fft_coefficient__coeff_0__attr_\"imag\" is constant\n",
      "WARNING:tsfresh.feature_selection.relevance:[test_feature_significance] Feature Y__friedrich_coefficients__m_3__r_30__coeff_0 is constant\n",
      "WARNING:tsfresh.feature_selection.relevance:[test_feature_significance] Feature Y__friedrich_coefficients__m_3__r_30__coeff_1 is constant\n",
      "WARNING:tsfresh.feature_selection.relevance:[test_feature_significance] Feature Y__friedrich_coefficients__m_3__r_30__coeff_2 is constant\n",
      "WARNING:tsfresh.feature_selection.relevance:[test_feature_significance] Feature Y__friedrich_coefficients__m_3__r_30__coeff_3 is constant\n",
      "WARNING:tsfresh.feature_selection.relevance:[test_feature_significance] Feature Y__has_duplicate is constant\n",
      "WARNING:tsfresh.feature_selection.relevance:[test_feature_significance] Feature Y__large_standard_deviation__r_0.05 is constant\n",
      "WARNING:tsfresh.feature_selection.relevance:[test_feature_significance] Feature Y__large_standard_deviation__r_0.5 is constant\n",
      "WARNING:tsfresh.feature_selection.relevance:[test_feature_significance] Feature Y__large_standard_deviation__r_0.55 is constant\n",
      "WARNING:tsfresh.feature_selection.relevance:[test_feature_significance] Feature Y__large_standard_deviation__r_0.6 is constant\n",
      "WARNING:tsfresh.feature_selection.relevance:[test_feature_significance] Feature Y__large_standard_deviation__r_0.65 is constant\n",
      "WARNING:tsfresh.feature_selection.relevance:[test_feature_significance] Feature Y__large_standard_deviation__r_0.7 is constant\n",
      "WARNING:tsfresh.feature_selection.relevance:[test_feature_significance] Feature Y__large_standard_deviation__r_0.75 is constant\n",
      "WARNING:tsfresh.feature_selection.relevance:[test_feature_significance] Feature Y__large_standard_deviation__r_0.8 is constant\n",
      "WARNING:tsfresh.feature_selection.relevance:[test_feature_significance] Feature Y__large_standard_deviation__r_0.85 is constant\n",
      "WARNING:tsfresh.feature_selection.relevance:[test_feature_significance] Feature Y__large_standard_deviation__r_0.9 is constant\n",
      "WARNING:tsfresh.feature_selection.relevance:[test_feature_significance] Feature Y__large_standard_deviation__r_0.95 is constant\n",
      "WARNING:tsfresh.feature_selection.relevance:[test_feature_significance] Feature Y__length is constant\n",
      "WARNING:tsfresh.feature_selection.relevance:[test_feature_significance] Feature Y__max_langevin_fixed_point__m_3__r_30 is constant\n",
      "WARNING:tsfresh.feature_selection.relevance:[test_feature_significance] Feature Y__number_peaks__n_1 is constant\n",
      "WARNING:tsfresh.feature_selection.relevance:[test_feature_significance] Feature Y__number_peaks__n_10 is constant\n",
      "WARNING:tsfresh.feature_selection.relevance:[test_feature_significance] Feature Y__number_peaks__n_3 is constant\n",
      "WARNING:tsfresh.feature_selection.relevance:[test_feature_significance] Feature Y__number_peaks__n_5 is constant\n",
      "WARNING:tsfresh.feature_selection.relevance:[test_feature_significance] Feature Y__number_peaks__n_50 is constant\n",
      "WARNING:tsfresh.feature_selection.relevance:[test_feature_significance] Feature Y__partial_autocorrelation__lag_0 is constant\n",
      "WARNING:tsfresh.feature_selection.relevance:[test_feature_significance] Feature Y__symmetry_looking__r_0.0 is constant\n",
      "WARNING:tsfresh.feature_selection.relevance:[test_feature_significance] Feature Y__symmetry_looking__r_0.45 is constant\n",
      "WARNING:tsfresh.feature_selection.relevance:[test_feature_significance] Feature Y__symmetry_looking__r_0.5 is constant\n",
      "WARNING:tsfresh.feature_selection.relevance:[test_feature_significance] Feature Y__symmetry_looking__r_0.55 is constant\n",
      "WARNING:tsfresh.feature_selection.relevance:[test_feature_significance] Feature Y__symmetry_looking__r_0.6 is constant\n",
      "WARNING:tsfresh.feature_selection.relevance:[test_feature_significance] Feature Y__symmetry_looking__r_0.65 is constant\n",
      "WARNING:tsfresh.feature_selection.relevance:[test_feature_significance] Feature Y__symmetry_looking__r_0.7 is constant\n",
      "WARNING:tsfresh.feature_selection.relevance:[test_feature_significance] Feature Y__symmetry_looking__r_0.75 is constant\n",
      "WARNING:tsfresh.feature_selection.relevance:[test_feature_significance] Feature Y__symmetry_looking__r_0.8 is constant\n",
      "WARNING:tsfresh.feature_selection.relevance:[test_feature_significance] Feature Y__symmetry_looking__r_0.85 is constant\n",
      "WARNING:tsfresh.feature_selection.relevance:[test_feature_significance] Feature Y__symmetry_looking__r_0.9 is constant\n",
      "WARNING:tsfresh.feature_selection.relevance:[test_feature_significance] Feature Y__symmetry_looking__r_0.95 is constant\n",
      "WARNING:tsfresh.feature_selection.relevance:[test_feature_significance] Feature Y__value_count__value_-inf is constant\n",
      "WARNING:tsfresh.feature_selection.relevance:[test_feature_significance] Feature Y__value_count__value_1 is constant\n",
      "WARNING:tsfresh.feature_selection.relevance:[test_feature_significance] Feature Y__value_count__value_inf is constant\n",
      "WARNING:tsfresh.feature_selection.relevance:[test_feature_significance] Feature Y__value_count__value_nan is constant\n",
      "WARNING:tsfresh.feature_selection.significance_tests:[target_binary_feature_binary_test] A binary feature should have only values 1 and 0 (incl. True and False). Instead found set([0.998, 1.0]) in feature ''X__percentage_of_reoccurring_values_to_all_values''.\n",
      "WARNING:tsfresh.feature_selection.significance_tests:[target_binary_feature_binary_test] A binary feature should have only values 1 and 0 (incl. True and False). Instead found set([0.0, 0.0060000000000000001]) in feature ''X__ratio_beyond_r_sigma__r_7''.\n",
      "WARNING:tsfresh.feature_selection.significance_tests:[target_binary_feature_binary_test] A binary feature should have only values 1 and 0 (incl. True and False). Instead found set([0.0, 180.0]) in feature ''Y__fft_coefficient__coeff_0__attr_\"angle\"''.\n",
      "WARNING:tsfresh.feature_selection.significance_tests:[target_binary_feature_binary_test] A binary feature should have only values 1 and 0 (incl. True and False). Instead found set([0.998, 1.0]) in feature ''Y__percentage_of_reoccurring_values_to_all_values''.\n",
      "WARNING:tsfresh.feature_selection.significance_tests:[target_binary_feature_binary_test] A binary feature should have only values 1 and 0 (incl. True and False). Instead found set([0.998, 1.0]) in feature ''X__percentage_of_reoccurring_values_to_all_values''.\n"
     ]
    },
    {
     "name": "stderr",
     "output_type": "stream",
     "text": [
      "WARNING:tsfresh.feature_selection.significance_tests:[target_binary_feature_binary_test] A binary feature should have only values 1 and 0 (incl. True and False). Instead found set([0.0, 0.0060000000000000001]) in feature ''X__ratio_beyond_r_sigma__r_7''.\n",
      "WARNING:tsfresh.feature_selection.significance_tests:[target_binary_feature_binary_test] A binary feature should have only values 1 and 0 (incl. True and False). Instead found set([0.0, 180.0]) in feature ''Y__fft_coefficient__coeff_0__attr_\"angle\"''.\n",
      "WARNING:tsfresh.feature_selection.significance_tests:[target_binary_feature_binary_test] A binary feature should have only values 1 and 0 (incl. True and False). Instead found set([0.998, 1.0]) in feature ''Y__percentage_of_reoccurring_values_to_all_values''.\n"
     ]
    }
   ],
   "source": [
    "features_filtered_direct = extract_relevant_features(TIMESERIES, LABELSPREP,\n",
    "                                                     column_id='id', column_sort='time')"
   ]
  },
  {
   "cell_type": "markdown",
   "metadata": {},
   "source": [
    "In this next section I dumped the data into a pickle (commented out). Here I can load the pickle object.   "
   ]
  },
  {
   "cell_type": "code",
   "execution_count": 174,
   "metadata": {},
   "outputs": [],
   "source": [
    "# Dump the data. \n",
    "#import dill                            \n",
    "#filename = 'T_S_dump.pkl'\n",
    "#dill.dump_session(filename)\n",
    "\n",
    "import dill\n",
    "PATH='/Users/nicholashedger/Documents'\n",
    "dill.load_session(os.path.join(PATH,'T_S_dump.pkl'))\n"
   ]
  },
  {
   "cell_type": "markdown",
   "metadata": {},
   "source": [
    "Inspect the structure of the extracted features. Its a pandas dataframe"
   ]
  },
  {
   "cell_type": "code",
   "execution_count": 173,
   "metadata": {},
   "outputs": [
    {
     "data": {
      "text/html": [
       "<div>\n",
       "<style>\n",
       "    .dataframe thead tr:only-child th {\n",
       "        text-align: right;\n",
       "    }\n",
       "\n",
       "    .dataframe thead th {\n",
       "        text-align: left;\n",
       "    }\n",
       "\n",
       "    .dataframe tbody tr th {\n",
       "        vertical-align: top;\n",
       "    }\n",
       "</style>\n",
       "<table border=\"1\" class=\"dataframe\">\n",
       "  <thead>\n",
       "    <tr style=\"text-align: right;\">\n",
       "      <th>variable</th>\n",
       "      <th>Y__approximate_entropy__m_2__r_0.1</th>\n",
       "      <th>X__number_cwt_peaks__n_1</th>\n",
       "      <th>Y__number_cwt_peaks__n_1</th>\n",
       "      <th>X__ratio_value_number_to_time_series_length</th>\n",
       "      <th>Y__ratio_value_number_to_time_series_length</th>\n",
       "      <th>X__sample_entropy</th>\n",
       "      <th>Y__approximate_entropy__m_2__r_0.3</th>\n",
       "      <th>Y__sum_of_reoccurring_values</th>\n",
       "      <th>X__variance</th>\n",
       "      <th>X__standard_deviation</th>\n",
       "      <th>...</th>\n",
       "      <th>X__fft_coefficient__coeff_94__attr_\"abs\"</th>\n",
       "      <th>X__fft_coefficient__coeff_61__attr_\"angle\"</th>\n",
       "      <th>Y__ar_coefficient__k_10__coeff_3</th>\n",
       "      <th>Y__fft_coefficient__coeff_43__attr_\"angle\"</th>\n",
       "      <th>Y__agg_linear_trend__f_agg_\"mean\"__chunk_len_5__attr_\"slope\"</th>\n",
       "      <th>Y__linear_trend__attr_\"slope\"</th>\n",
       "      <th>Y__agg_linear_trend__f_agg_\"mean\"__chunk_len_10__attr_\"slope\"</th>\n",
       "      <th>Y__fft_coefficient__coeff_71__attr_\"abs\"</th>\n",
       "      <th>Y__fft_coefficient__coeff_48__attr_\"abs\"</th>\n",
       "      <th>Y__agg_linear_trend__f_agg_\"mean\"__chunk_len_50__attr_\"slope\"</th>\n",
       "    </tr>\n",
       "    <tr>\n",
       "      <th>id</th>\n",
       "      <th></th>\n",
       "      <th></th>\n",
       "      <th></th>\n",
       "      <th></th>\n",
       "      <th></th>\n",
       "      <th></th>\n",
       "      <th></th>\n",
       "      <th></th>\n",
       "      <th></th>\n",
       "      <th></th>\n",
       "      <th></th>\n",
       "      <th></th>\n",
       "      <th></th>\n",
       "      <th></th>\n",
       "      <th></th>\n",
       "      <th></th>\n",
       "      <th></th>\n",
       "      <th></th>\n",
       "      <th></th>\n",
       "      <th></th>\n",
       "      <th></th>\n",
       "    </tr>\n",
       "  </thead>\n",
       "  <tbody>\n",
       "    <tr>\n",
       "      <th>1</th>\n",
       "      <td>0.069963</td>\n",
       "      <td>10.0</td>\n",
       "      <td>10.0</td>\n",
       "      <td>0.020</td>\n",
       "      <td>0.020</td>\n",
       "      <td>1.361701</td>\n",
       "      <td>0.061495</td>\n",
       "      <td>6583.2</td>\n",
       "      <td>82805.549340</td>\n",
       "      <td>287.759534</td>\n",
       "      <td>...</td>\n",
       "      <td>367.140301</td>\n",
       "      <td>108.696081</td>\n",
       "      <td>-6.217249e-15</td>\n",
       "      <td>125.899286</td>\n",
       "      <td>0.826633</td>\n",
       "      <td>0.165351</td>\n",
       "      <td>1.652533</td>\n",
       "      <td>60.895830</td>\n",
       "      <td>78.863978</td>\n",
       "      <td>8.252327</td>\n",
       "    </tr>\n",
       "    <tr>\n",
       "      <th>2</th>\n",
       "      <td>0.094173</td>\n",
       "      <td>13.0</td>\n",
       "      <td>13.0</td>\n",
       "      <td>0.026</td>\n",
       "      <td>0.024</td>\n",
       "      <td>1.279313</td>\n",
       "      <td>0.100075</td>\n",
       "      <td>7825.1</td>\n",
       "      <td>116950.871890</td>\n",
       "      <td>341.980806</td>\n",
       "      <td>...</td>\n",
       "      <td>538.242008</td>\n",
       "      <td>155.249563</td>\n",
       "      <td>2.331468e-15</td>\n",
       "      <td>137.776559</td>\n",
       "      <td>1.369600</td>\n",
       "      <td>0.273970</td>\n",
       "      <td>2.740423</td>\n",
       "      <td>367.013170</td>\n",
       "      <td>297.593404</td>\n",
       "      <td>13.848824</td>\n",
       "    </tr>\n",
       "    <tr>\n",
       "      <th>3</th>\n",
       "      <td>0.082168</td>\n",
       "      <td>9.0</td>\n",
       "      <td>9.0</td>\n",
       "      <td>0.018</td>\n",
       "      <td>0.018</td>\n",
       "      <td>0.949978</td>\n",
       "      <td>0.077263</td>\n",
       "      <td>5026.7</td>\n",
       "      <td>122986.538696</td>\n",
       "      <td>350.694367</td>\n",
       "      <td>...</td>\n",
       "      <td>910.329899</td>\n",
       "      <td>53.904862</td>\n",
       "      <td>-6.661338e-15</td>\n",
       "      <td>16.203437</td>\n",
       "      <td>-0.464989</td>\n",
       "      <td>-0.092977</td>\n",
       "      <td>-0.930203</td>\n",
       "      <td>86.116015</td>\n",
       "      <td>281.703577</td>\n",
       "      <td>-4.728473</td>\n",
       "    </tr>\n",
       "    <tr>\n",
       "      <th>4</th>\n",
       "      <td>0.114255</td>\n",
       "      <td>14.0</td>\n",
       "      <td>13.0</td>\n",
       "      <td>0.030</td>\n",
       "      <td>0.030</td>\n",
       "      <td>1.231056</td>\n",
       "      <td>0.105340</td>\n",
       "      <td>9163.8</td>\n",
       "      <td>74225.197703</td>\n",
       "      <td>272.443017</td>\n",
       "      <td>...</td>\n",
       "      <td>419.955742</td>\n",
       "      <td>-34.617118</td>\n",
       "      <td>8.301813e-03</td>\n",
       "      <td>131.015213</td>\n",
       "      <td>-0.425386</td>\n",
       "      <td>-0.085102</td>\n",
       "      <td>-0.850875</td>\n",
       "      <td>335.821742</td>\n",
       "      <td>835.838888</td>\n",
       "      <td>-4.331055</td>\n",
       "    </tr>\n",
       "    <tr>\n",
       "      <th>5</th>\n",
       "      <td>0.098275</td>\n",
       "      <td>13.0</td>\n",
       "      <td>13.0</td>\n",
       "      <td>0.026</td>\n",
       "      <td>0.026</td>\n",
       "      <td>1.129762</td>\n",
       "      <td>0.077954</td>\n",
       "      <td>8287.7</td>\n",
       "      <td>87283.405329</td>\n",
       "      <td>295.437650</td>\n",
       "      <td>...</td>\n",
       "      <td>1272.998796</td>\n",
       "      <td>-9.058874</td>\n",
       "      <td>-1.776357e-15</td>\n",
       "      <td>-158.461336</td>\n",
       "      <td>0.031612</td>\n",
       "      <td>0.006309</td>\n",
       "      <td>0.063588</td>\n",
       "      <td>118.916038</td>\n",
       "      <td>45.969206</td>\n",
       "      <td>0.225564</td>\n",
       "    </tr>\n",
       "  </tbody>\n",
       "</table>\n",
       "<p>5 rows × 518 columns</p>\n",
       "</div>"
      ],
      "text/plain": [
       "variable  Y__approximate_entropy__m_2__r_0.1  X__number_cwt_peaks__n_1  \\\n",
       "id                                                                       \n",
       "1                                   0.069963                      10.0   \n",
       "2                                   0.094173                      13.0   \n",
       "3                                   0.082168                       9.0   \n",
       "4                                   0.114255                      14.0   \n",
       "5                                   0.098275                      13.0   \n",
       "\n",
       "variable  Y__number_cwt_peaks__n_1  \\\n",
       "id                                   \n",
       "1                             10.0   \n",
       "2                             13.0   \n",
       "3                              9.0   \n",
       "4                             13.0   \n",
       "5                             13.0   \n",
       "\n",
       "variable  X__ratio_value_number_to_time_series_length  \\\n",
       "id                                                      \n",
       "1                                               0.020   \n",
       "2                                               0.026   \n",
       "3                                               0.018   \n",
       "4                                               0.030   \n",
       "5                                               0.026   \n",
       "\n",
       "variable  Y__ratio_value_number_to_time_series_length  X__sample_entropy  \\\n",
       "id                                                                         \n",
       "1                                               0.020           1.361701   \n",
       "2                                               0.024           1.279313   \n",
       "3                                               0.018           0.949978   \n",
       "4                                               0.030           1.231056   \n",
       "5                                               0.026           1.129762   \n",
       "\n",
       "variable  Y__approximate_entropy__m_2__r_0.3  Y__sum_of_reoccurring_values  \\\n",
       "id                                                                           \n",
       "1                                   0.061495                        6583.2   \n",
       "2                                   0.100075                        7825.1   \n",
       "3                                   0.077263                        5026.7   \n",
       "4                                   0.105340                        9163.8   \n",
       "5                                   0.077954                        8287.7   \n",
       "\n",
       "variable    X__variance  X__standard_deviation  \\\n",
       "id                                               \n",
       "1          82805.549340             287.759534   \n",
       "2         116950.871890             341.980806   \n",
       "3         122986.538696             350.694367   \n",
       "4          74225.197703             272.443017   \n",
       "5          87283.405329             295.437650   \n",
       "\n",
       "variable                              ...                                \\\n",
       "id                                    ...                                 \n",
       "1                                     ...                                 \n",
       "2                                     ...                                 \n",
       "3                                     ...                                 \n",
       "4                                     ...                                 \n",
       "5                                     ...                                 \n",
       "\n",
       "variable  X__fft_coefficient__coeff_94__attr_\"abs\"  \\\n",
       "id                                                   \n",
       "1                                       367.140301   \n",
       "2                                       538.242008   \n",
       "3                                       910.329899   \n",
       "4                                       419.955742   \n",
       "5                                      1272.998796   \n",
       "\n",
       "variable  X__fft_coefficient__coeff_61__attr_\"angle\"  \\\n",
       "id                                                     \n",
       "1                                         108.696081   \n",
       "2                                         155.249563   \n",
       "3                                          53.904862   \n",
       "4                                         -34.617118   \n",
       "5                                          -9.058874   \n",
       "\n",
       "variable  Y__ar_coefficient__k_10__coeff_3  \\\n",
       "id                                           \n",
       "1                            -6.217249e-15   \n",
       "2                             2.331468e-15   \n",
       "3                            -6.661338e-15   \n",
       "4                             8.301813e-03   \n",
       "5                            -1.776357e-15   \n",
       "\n",
       "variable  Y__fft_coefficient__coeff_43__attr_\"angle\"  \\\n",
       "id                                                     \n",
       "1                                         125.899286   \n",
       "2                                         137.776559   \n",
       "3                                          16.203437   \n",
       "4                                         131.015213   \n",
       "5                                        -158.461336   \n",
       "\n",
       "variable  Y__agg_linear_trend__f_agg_\"mean\"__chunk_len_5__attr_\"slope\"  \\\n",
       "id                                                                       \n",
       "1                                                  0.826633              \n",
       "2                                                  1.369600              \n",
       "3                                                 -0.464989              \n",
       "4                                                 -0.425386              \n",
       "5                                                  0.031612              \n",
       "\n",
       "variable  Y__linear_trend__attr_\"slope\"  \\\n",
       "id                                        \n",
       "1                              0.165351   \n",
       "2                              0.273970   \n",
       "3                             -0.092977   \n",
       "4                             -0.085102   \n",
       "5                              0.006309   \n",
       "\n",
       "variable  Y__agg_linear_trend__f_agg_\"mean\"__chunk_len_10__attr_\"slope\"  \\\n",
       "id                                                                        \n",
       "1                                                  1.652533               \n",
       "2                                                  2.740423               \n",
       "3                                                 -0.930203               \n",
       "4                                                 -0.850875               \n",
       "5                                                  0.063588               \n",
       "\n",
       "variable  Y__fft_coefficient__coeff_71__attr_\"abs\"  \\\n",
       "id                                                   \n",
       "1                                        60.895830   \n",
       "2                                       367.013170   \n",
       "3                                        86.116015   \n",
       "4                                       335.821742   \n",
       "5                                       118.916038   \n",
       "\n",
       "variable  Y__fft_coefficient__coeff_48__attr_\"abs\"  \\\n",
       "id                                                   \n",
       "1                                        78.863978   \n",
       "2                                       297.593404   \n",
       "3                                       281.703577   \n",
       "4                                       835.838888   \n",
       "5                                        45.969206   \n",
       "\n",
       "variable  Y__agg_linear_trend__f_agg_\"mean\"__chunk_len_50__attr_\"slope\"  \n",
       "id                                                                       \n",
       "1                                                  8.252327              \n",
       "2                                                 13.848824              \n",
       "3                                                 -4.728473              \n",
       "4                                                 -4.331055              \n",
       "5                                                  0.225564              \n",
       "\n",
       "[5 rows x 518 columns]"
      ]
     },
     "execution_count": 173,
     "metadata": {},
     "output_type": "execute_result"
    }
   ],
   "source": [
    "features_filtered_direct.head()"
   ]
  },
  {
   "cell_type": "markdown",
   "metadata": {},
   "source": [
    "Order the features by their relevance and show the 10 most relevant"
   ]
  },
  {
   "cell_type": "code",
   "execution_count": 201,
   "metadata": {},
   "outputs": [
    {
     "name": "stderr",
     "output_type": "stream",
     "text": [
      "WARNING:tsfresh.feature_selection.relevance:Infered classification as machine learning task\n"
     ]
    }
   ],
   "source": [
    "#from tsfresh.feature_selection.relevance import calculate_relevance_table\n",
    "templab=pd.Series(LABELSPREP,index=np.unique(TIMESERIES[\"id\"]))\n",
    "templab.head()\n",
    "templab.unique\n",
    "sigtable=calculate_relevance_table(X=features_filtered_direct,y=templab)"
   ]
  },
  {
   "cell_type": "code",
   "execution_count": 413,
   "metadata": {
    "scrolled": true
   },
   "outputs": [
    {
     "data": {
      "text/html": [
       "<div>\n",
       "<style>\n",
       "    .dataframe thead tr:only-child th {\n",
       "        text-align: right;\n",
       "    }\n",
       "\n",
       "    .dataframe thead th {\n",
       "        text-align: left;\n",
       "    }\n",
       "\n",
       "    .dataframe tbody tr th {\n",
       "        vertical-align: top;\n",
       "    }\n",
       "</style>\n",
       "<table border=\"1\" class=\"dataframe\">\n",
       "  <thead>\n",
       "    <tr style=\"text-align: right;\">\n",
       "      <th></th>\n",
       "      <th>feature</th>\n",
       "      <th>type</th>\n",
       "      <th>p_value</th>\n",
       "      <th>relevant</th>\n",
       "    </tr>\n",
       "    <tr>\n",
       "      <th>feature</th>\n",
       "      <th></th>\n",
       "      <th></th>\n",
       "      <th></th>\n",
       "      <th></th>\n",
       "    </tr>\n",
       "  </thead>\n",
       "  <tbody>\n",
       "    <tr>\n",
       "      <th>Y__approximate_entropy__m_2__r_0.1</th>\n",
       "      <td>Y__approximate_entropy__m_2__r_0.1</td>\n",
       "      <td>real</td>\n",
       "      <td>5.099619e-84</td>\n",
       "      <td>True</td>\n",
       "    </tr>\n",
       "    <tr>\n",
       "      <th>X__number_cwt_peaks__n_1</th>\n",
       "      <td>X__number_cwt_peaks__n_1</td>\n",
       "      <td>real</td>\n",
       "      <td>1.003600e-82</td>\n",
       "      <td>True</td>\n",
       "    </tr>\n",
       "    <tr>\n",
       "      <th>Y__number_cwt_peaks__n_1</th>\n",
       "      <td>Y__number_cwt_peaks__n_1</td>\n",
       "      <td>real</td>\n",
       "      <td>1.260592e-82</td>\n",
       "      <td>True</td>\n",
       "    </tr>\n",
       "    <tr>\n",
       "      <th>X__ratio_value_number_to_time_series_length</th>\n",
       "      <td>X__ratio_value_number_to_time_series_length</td>\n",
       "      <td>real</td>\n",
       "      <td>5.500069e-80</td>\n",
       "      <td>True</td>\n",
       "    </tr>\n",
       "    <tr>\n",
       "      <th>Y__ratio_value_number_to_time_series_length</th>\n",
       "      <td>Y__ratio_value_number_to_time_series_length</td>\n",
       "      <td>real</td>\n",
       "      <td>7.085686e-80</td>\n",
       "      <td>True</td>\n",
       "    </tr>\n",
       "    <tr>\n",
       "      <th>X__sample_entropy</th>\n",
       "      <td>X__sample_entropy</td>\n",
       "      <td>real</td>\n",
       "      <td>2.325208e-77</td>\n",
       "      <td>True</td>\n",
       "    </tr>\n",
       "    <tr>\n",
       "      <th>Y__approximate_entropy__m_2__r_0.3</th>\n",
       "      <td>Y__approximate_entropy__m_2__r_0.3</td>\n",
       "      <td>real</td>\n",
       "      <td>1.933456e-75</td>\n",
       "      <td>True</td>\n",
       "    </tr>\n",
       "    <tr>\n",
       "      <th>Y__sum_of_reoccurring_values</th>\n",
       "      <td>Y__sum_of_reoccurring_values</td>\n",
       "      <td>real</td>\n",
       "      <td>3.988942e-65</td>\n",
       "      <td>True</td>\n",
       "    </tr>\n",
       "    <tr>\n",
       "      <th>X__standard_deviation</th>\n",
       "      <td>X__standard_deviation</td>\n",
       "      <td>real</td>\n",
       "      <td>3.689166e-64</td>\n",
       "      <td>True</td>\n",
       "    </tr>\n",
       "    <tr>\n",
       "      <th>X__variance</th>\n",
       "      <td>X__variance</td>\n",
       "      <td>real</td>\n",
       "      <td>3.689166e-64</td>\n",
       "      <td>True</td>\n",
       "    </tr>\n",
       "  </tbody>\n",
       "</table>\n",
       "</div>"
      ],
      "text/plain": [
       "                                                                                 feature  \\\n",
       "feature                                                                                    \n",
       "Y__approximate_entropy__m_2__r_0.1                    Y__approximate_entropy__m_2__r_0.1   \n",
       "X__number_cwt_peaks__n_1                                        X__number_cwt_peaks__n_1   \n",
       "Y__number_cwt_peaks__n_1                                        Y__number_cwt_peaks__n_1   \n",
       "X__ratio_value_number_to_time_series_length  X__ratio_value_number_to_time_series_length   \n",
       "Y__ratio_value_number_to_time_series_length  Y__ratio_value_number_to_time_series_length   \n",
       "X__sample_entropy                                                      X__sample_entropy   \n",
       "Y__approximate_entropy__m_2__r_0.3                    Y__approximate_entropy__m_2__r_0.3   \n",
       "Y__sum_of_reoccurring_values                                Y__sum_of_reoccurring_values   \n",
       "X__standard_deviation                                              X__standard_deviation   \n",
       "X__variance                                                                  X__variance   \n",
       "\n",
       "                                             type       p_value  relevant  \n",
       "feature                                                                    \n",
       "Y__approximate_entropy__m_2__r_0.1           real  5.099619e-84      True  \n",
       "X__number_cwt_peaks__n_1                     real  1.003600e-82      True  \n",
       "Y__number_cwt_peaks__n_1                     real  1.260592e-82      True  \n",
       "X__ratio_value_number_to_time_series_length  real  5.500069e-80      True  \n",
       "Y__ratio_value_number_to_time_series_length  real  7.085686e-80      True  \n",
       "X__sample_entropy                            real  2.325208e-77      True  \n",
       "Y__approximate_entropy__m_2__r_0.3           real  1.933456e-75      True  \n",
       "Y__sum_of_reoccurring_values                 real  3.988942e-65      True  \n",
       "X__standard_deviation                        real  3.689166e-64      True  \n",
       "X__variance                                  real  3.689166e-64      True  "
      ]
     },
     "execution_count": 413,
     "metadata": {},
     "output_type": "execute_result"
    }
   ],
   "source": [
    "sigtable.head(n=10)"
   ]
  },
  {
   "cell_type": "markdown",
   "metadata": {},
   "source": [
    "Define a function for showing the trials that represent the highest and lowest of a feature"
   ]
  },
  {
   "cell_type": "code",
   "execution_count": 417,
   "metadata": {},
   "outputs": [],
   "source": [
    "def SHOWFEATURE(feature):\n",
    "    fig, ax = plt.subplots(figsize=(20, 20))\n",
    "    for i in range(4): # Plot the top 4 instances\n",
    "        for j in range(2):\n",
    "            ax = plt.subplot2grid((5,3), (i,j))\n",
    "            if j==1: \n",
    "                league=features_filtered_direct.sort_values(by=[feature],ascending=True) # The lowest values\n",
    "            else:\n",
    "                league=features_filtered_direct.sort_values(by=[feature],ascending=False) # The highest values\n",
    "            idt=league.iloc[[i]].index[0] # Get the id\n",
    "            var=round(league[feature].iloc[i],3) # Get the value of the variable\n",
    "            instance=TIMESERIES[(TIMESERIES[\"id\"]==idt)] # Get the timeseries corresponding to the ID\n",
    "            plt.axis([100,1500,300,900])\n",
    "            rect=patches.Rectangle((168,378),544,444,facecolor='none',edgecolor='r') # Plot the grid area\n",
    "            rect2=patches.Rectangle((888,378),544,444,facecolor='none',edgecolor='r')\n",
    "            num=SCRAMLAB.iloc[idt-1,0] # Reference the timeseries with the label to determine whether it was scrambled or not\n",
    "            ax.add_patch(rect)\n",
    "            ax.add_patch(rect2)\n",
    "            lab=\"ID= %d, var= %f Scram = %d\" % (idt,var,num)\n",
    "            ax.set_title(lab)\n",
    "            ax.plot(instance['X'],instance['Y'])"
   ]
  },
  {
   "cell_type": "markdown",
   "metadata": {},
   "source": [
    "Now plot the 4 trials that represent the highest and lowest of the most informative feature."
   ]
  },
  {
   "cell_type": "code",
   "execution_count": 418,
   "metadata": {},
   "outputs": [
    {
     "data": {
      "image/png": "[encoded data removed]",
      "text/plain": [
       "<matplotlib.figure.Figure at 0xa10b9afd0>"
      ]
     },
     "metadata": {},
     "output_type": "display_data"
    }
   ],
   "source": [
    "SHOWFEATURE('Y__approximate_entropy__m_2__r_0.1')"
   ]
  },
  {
   "cell_type": "markdown",
   "metadata": {},
   "source": [
    "Now standardise the feature matrix"
   ]
  },
  {
   "cell_type": "code",
   "execution_count": 416,
   "metadata": {},
   "outputs": [
    {
     "data": {
      "text/plain": [
       "(6156, 518)"
      ]
     },
     "execution_count": 416,
     "metadata": {},
     "output_type": "execute_result"
    }
   ],
   "source": [
    "from sklearn.preprocessing import StandardScaler\n",
    "scaler = StandardScaler()\n",
    "trans=scaler.fit(features_filtered_direct)\n",
    "scaled=scaler.transform(features_filtered_direct)\n",
    "scaled.shape"
   ]
  },
  {
   "cell_type": "markdown",
   "metadata": {},
   "source": [
    "Split the data into a training and test set."
   ]
  },
  {
   "cell_type": "code",
   "execution_count": 419,
   "metadata": {
    "collapsed": true
   },
   "outputs": [],
   "source": [
    "from sklearn.model_selection import train_test_split\n",
    "from sklearn.model_selection import cross_val_score\n",
    "\n",
    "X_train, X_test, y_train, y_test = train_test_split(scaled, LABELSPREP, test_size=.2)\n"
   ]
  },
  {
   "cell_type": "markdown",
   "metadata": {},
   "source": [
    "Fit a random forest classifier to the training data."
   ]
  },
  {
   "cell_type": "code",
   "execution_count": 422,
   "metadata": {},
   "outputs": [
    {
     "data": {
      "text/plain": [
       "RandomForestClassifier(bootstrap=True, class_weight=None, criterion='gini',\n",
       "            max_depth=None, max_features='auto', max_leaf_nodes=None,\n",
       "            min_impurity_decrease=0.0, min_impurity_split=None,\n",
       "            min_samples_leaf=1, min_samples_split=2,\n",
       "            min_weight_fraction_leaf=0.0, n_estimators=10, n_jobs=1,\n",
       "            oob_score=False, random_state=None, verbose=0,\n",
       "            warm_start=False)"
      ]
     },
     "execution_count": 422,
     "metadata": {},
     "output_type": "execute_result"
    }
   ],
   "source": [
    "from sklearn.ensemble import RandomForestClassifier\n",
    "cl = RandomForestClassifier() \n",
    "cl.fit(X_train, y_train) # Fit to the training data"
   ]
  },
  {
   "cell_type": "markdown",
   "metadata": {},
   "source": [
    "Get the accuracy score for the training data."
   ]
  },
  {
   "cell_type": "code",
   "execution_count": 428,
   "metadata": {},
   "outputs": [
    {
     "data": {
      "text/plain": [
       "0.98862713241267264"
      ]
     },
     "execution_count": 428,
     "metadata": {},
     "output_type": "execute_result"
    }
   ],
   "source": [
    "from sklearn.metrics import accuracy_score\n",
    "accuracy_score(y_train, cl.predict(X_train))"
   ]
  },
  {
   "cell_type": "markdown",
   "metadata": {},
   "source": [
    "Now perform cross-validation"
   ]
  },
  {
   "cell_type": "code",
   "execution_count": 429,
   "metadata": {},
   "outputs": [
    {
     "data": {
      "text/plain": [
       "array([ 0.70791075,  0.70993915,  0.72210953,  0.74239351,  0.67545639,\n",
       "        0.67748479,  0.68762677,  0.68228106,  0.6700611 ,  0.6904277 ])"
      ]
     },
     "execution_count": 429,
     "metadata": {},
     "output_type": "execute_result"
    }
   ],
   "source": [
    "scoreCV=cross_val_score(cl,X_train,y_train,cv=10,scoring='accuracy') # Cross validate.\n",
    "\n",
    "scoreCV"
   ]
  },
  {
   "cell_type": "markdown",
   "metadata": {},
   "source": [
    "The model seems to be over-fitting. Also check the classification performance for the test data"
   ]
  },
  {
   "cell_type": "code",
   "execution_count": 425,
   "metadata": {},
   "outputs": [
    {
     "name": "stdout",
     "output_type": "stream",
     "text": [
      "             precision    recall  f1-score   support\n",
      "\n",
      "          1       0.69      0.77      0.73       623\n",
      "          2       0.73      0.65      0.69       609\n",
      "\n",
      "avg / total       0.71      0.71      0.71      1232\n",
      "\n"
     ]
    }
   ],
   "source": [
    "from sklearn.metrics import classification_report # Show performance at classifying the test data\n",
    "print(classification_report(y_test, cl.predict(X_test)))"
   ]
  },
  {
   "cell_type": "code",
   "execution_count": 426,
   "metadata": {},
   "outputs": [
    {
     "ename": "NameError",
     "evalue": "name 'accuracy_score' is not defined",
     "output_type": "error",
     "traceback": [
      "\u001b[0;31m---------------------------------------------------------------------------\u001b[0m",
      "\u001b[0;31mNameError\u001b[0m                                 Traceback (most recent call last)",
      "\u001b[0;32m<ipython-input-426-5f22ca135df3>\u001b[0m in \u001b[0;36m<module>\u001b[0;34m()\u001b[0m\n\u001b[0;32m----> 1\u001b[0;31m \u001b[0maccuracy_score\u001b[0m\u001b[0;34m(\u001b[0m\u001b[0my_traint\u001b[0m\u001b[0;34m,\u001b[0m \u001b[0mcl\u001b[0m\u001b[0;34m.\u001b[0m\u001b[0mpredict\u001b[0m\u001b[0;34m(\u001b[0m\u001b[0mX_train\u001b[0m\u001b[0;34m)\u001b[0m\u001b[0;34m)\u001b[0m\u001b[0;34m\u001b[0m\u001b[0m\n\u001b[0m",
      "\u001b[0;31mNameError\u001b[0m: name 'accuracy_score' is not defined"
     ]
    }
   ],
   "source": []
  },
  {
   "cell_type": "markdown",
   "metadata": {},
   "source": [
    "To visualise the most important features, find the instances with the minimum and maximum of these values and plot them."
   ]
  },
  {
   "cell_type": "code",
   "execution_count": 421,
   "metadata": {},
   "outputs": [
    {
     "data": {
      "image/png": "[encoded data removed]",
      "text/plain": [
       "<matplotlib.figure.Figure at 0xa33a77b10>"
      ]
     },
     "metadata": {},
     "output_type": "display_data"
    }
   ],
   "source": [
    "SHOWFEATURE('X__cwt_coefficients__widths_(2, 5, 10, 20)__coeff_1__w_20')"
   ]
  },
  {
   "cell_type": "markdown",
   "metadata": {},
   "source": [
    "Now create a new feature matrix using the top k features."
   ]
  },
  {
   "cell_type": "code",
   "execution_count": 25,
   "metadata": {
    "collapsed": true
   },
   "outputs": [],
   "source": [
    "def indices_of_top_k(arr, k):\n",
    "    return np.sort(np.argpartition(np.array(arr), -k)[-k:])\n",
    "\n",
    "\n",
    "top_k=indices_of_top_k(cl.feature_importances_,10)\n",
    "\n",
    "toplabels=np.array(attributes)[top_k]\n",
    "\n",
    "topkmat=np.array(features_filtered_direct)[:,top_k]\n",
    "\n",
    "\n",
    "X_train, X_test, y_train, y_test = train_test_split(topkmat, LABELSPREP, test_size=.2)\n",
    "\n",
    "from sklearn.ensemble import RandomForestClassifier\n",
    "\n",
    "cl2 = RandomForestClassifier()\n",
    "cl2.fit(X_train, y_train)\n",
    "\n",
    "scoreCV2=cross_val_score(cl2,X_train,y_train,cv=10,scoring='accuracy')\n"
   ]
  },
  {
   "cell_type": "code",
   "execution_count": 26,
   "metadata": {},
   "outputs": [
    {
     "data": {
      "text/plain": [
       "array([ 0.68825911,  0.6673428 ,  0.69979716,  0.71341463,  0.68495935,\n",
       "        0.71138211,  0.73780488,  0.72154472,  0.73170732,  0.71138211])"
      ]
     },
     "execution_count": 26,
     "metadata": {},
     "output_type": "execute_result"
    }
   ],
   "source": [
    "scoreCV2"
   ]
  },
  {
   "cell_type": "code",
   "execution_count": null,
   "metadata": {
    "collapsed": true
   },
   "outputs": [],
   "source": [
    "param_grid = [\n",
    "    # try 12 (3×4) combinations of hyperparameters\n",
    "    {'n_estimators': [3, 10, 60, 120], 'max_features': [2, 4, 6, 8, 10]}]\n",
    "\n",
    "\n",
    "\n",
    "from sklearn.model_selection import GridSearchCV\n",
    "grid_search = GridSearchCV(cl2, param_grid, cv=5,scoring='accuracy')\n",
    "\n",
    "grid_search.fit(X_train, y_train)\n",
    "\n",
    "\n",
    "\n",
    "cvres = grid_search.cv_results_\n",
    "for mean_score, params in zip(cvres[\"mean_test_score\"], cvres[\"params\"]):\n",
    "    print(mean_score, params)\n",
    "\n",
    "print(classification_report(y_test, grid_search.best_estimator_.predict(X_test)))\n"
   ]
  },
  {
   "cell_type": "code",
   "execution_count": null,
   "metadata": {
    "collapsed": true
   },
   "outputs": [],
   "source": [
    "grid_search.best_estimator_"
   ]
  },
  {
   "cell_type": "code",
   "execution_count": null,
   "metadata": {
    "collapsed": true
   },
   "outputs": [],
   "source": [
    "grid_search.best_estimator_.feature_importances_"
   ]
  },
  {
   "cell_type": "code",
   "execution_count": null,
   "metadata": {
    "collapsed": true
   },
   "outputs": [],
   "source": [
    "toplabels"
   ]
  }
 ],
 "metadata": {
  "kernelspec": {
   "display_name": "Python 2",
   "language": "python",
   "name": "python2"
  },
  "language_info": {
   "codemirror_mode": {
    "name": "ipython",
    "version": 2
   },
   "file_extension": ".py",
   "mimetype": "text/x-python",
   "name": "python",
   "nbconvert_exporter": "python",
   "pygments_lexer": "ipython2",
   "version": "2.7.14"
  }
 },
 "nbformat": 4,
 "nbformat_minor": 2
}
